{
 "cells": [
  {
   "cell_type": "markdown",
   "metadata": {},
   "source": [
    "# Time series MODEL"
   ]
  },
  {
   "cell_type": "code",
   "execution_count": 1,
   "metadata": {},
   "outputs": [],
   "source": [
    "import pandas as pd\n",
    "import sqlite3\n",
    "from data_collections.constants import SQLITE_DATABASE_MODEL"
   ]
  },
  {
   "cell_type": "code",
   "execution_count": 2,
   "metadata": {},
   "outputs": [],
   "source": [
    "TABLE_NAME = \"course_info\" "
   ]
  },
  {
   "cell_type": "code",
   "execution_count": 3,
   "metadata": {},
   "outputs": [],
   "source": [
    "connection = sqlite3.connect(SQLITE_DATABASE_MODEL)\n",
    "c = connection.cursor()"
   ]
  },
  {
   "cell_type": "code",
   "execution_count": 4,
   "metadata": {},
   "outputs": [],
   "source": [
    "obs_data = pd.read_sql_query(f'SELECT * FROM {TABLE_NAME}', connection)"
   ]
  },
  {
   "cell_type": "code",
   "execution_count": 5,
   "metadata": {},
   "outputs": [],
   "source": [
    "data = obs_data.copy()"
   ]
  },
  {
   "cell_type": "code",
   "execution_count": 6,
   "metadata": {},
   "outputs": [
    {
     "data": {
      "text/html": [
       "<div>\n",
       "<style scoped>\n",
       "    .dataframe tbody tr th:only-of-type {\n",
       "        vertical-align: middle;\n",
       "    }\n",
       "\n",
       "    .dataframe tbody tr th {\n",
       "        vertical-align: top;\n",
       "    }\n",
       "\n",
       "    .dataframe thead th {\n",
       "        text-align: right;\n",
       "    }\n",
       "</style>\n",
       "<table border=\"1\" class=\"dataframe\">\n",
       "  <thead>\n",
       "    <tr style=\"text-align: right;\">\n",
       "      <th></th>\n",
       "      <th>faculty_code</th>\n",
       "      <th>faculty</th>\n",
       "      <th>course_code</th>\n",
       "      <th>course_name</th>\n",
       "      <th>class</th>\n",
       "      <th>teacher</th>\n",
       "      <th>year</th>\n",
       "      <th>day</th>\n",
       "      <th>start_time</th>\n",
       "      <th>end_time</th>\n",
       "      <th>student_nums</th>\n",
       "    </tr>\n",
       "  </thead>\n",
       "  <tbody>\n",
       "    <tr>\n",
       "      <th>0</th>\n",
       "      <td>GÖRSEL İLETİŞİM TASARIMI_GSF102</td>\n",
       "      <td>GÖRSEL İLETİŞİM TASARIMI</td>\n",
       "      <td>GSF102</td>\n",
       "      <td>TEMEL TASARIM II</td>\n",
       "      <td>L-102(GİT ATÖLYE II)[60]</td>\n",
       "      <td>SEÇİL KARTOPU</td>\n",
       "      <td>1</td>\n",
       "      <td>Pazartesi</td>\n",
       "      <td>09:00</td>\n",
       "      <td>14:50</td>\n",
       "      <td>41</td>\n",
       "    </tr>\n",
       "    <tr>\n",
       "      <th>1</th>\n",
       "      <td>GÖRSEL İLETİŞİM TASARIMI_GSF106</td>\n",
       "      <td>GÖRSEL İLETİŞİM TASARIMI</td>\n",
       "      <td>GSF106</td>\n",
       "      <td>ÇİZİM II</td>\n",
       "      <td>L-101(GİT ATÖLYE I)[60]</td>\n",
       "      <td>Öğr.Gör. İSMAİL FURKAN YAVUZ</td>\n",
       "      <td>1</td>\n",
       "      <td>Pazartesi</td>\n",
       "      <td>09:00</td>\n",
       "      <td>14:50</td>\n",
       "      <td>44</td>\n",
       "    </tr>\n",
       "    <tr>\n",
       "      <th>2</th>\n",
       "      <td>GÖRSEL İLETİŞİM TASARIMI_BLG102</td>\n",
       "      <td>GÖRSEL İLETİŞİM TASARIMI</td>\n",
       "      <td>BLG102</td>\n",
       "      <td>BİLGİ TEKNOLOJİLERİ KULLANIMI</td>\n",
       "      <td>AZ 13(BİLGİSAYAR LAB.)[80]</td>\n",
       "      <td>Öğr.Gör. AHMET AKSOY</td>\n",
       "      <td>1</td>\n",
       "      <td>Salı</td>\n",
       "      <td>09:00</td>\n",
       "      <td>15:50</td>\n",
       "      <td>44</td>\n",
       "    </tr>\n",
       "    <tr>\n",
       "      <th>3</th>\n",
       "      <td>İKTİSAT_ENG104</td>\n",
       "      <td>İKTİSAT</td>\n",
       "      <td>ENG104</td>\n",
       "      <td>ACADEMIC ENGLISH II</td>\n",
       "      <td>B382(KONFERANS SALONU)[143]</td>\n",
       "      <td>Öğr.Gör. MÜGE AKGEDİK AKOĞLANOĞLU</td>\n",
       "      <td>1</td>\n",
       "      <td>Pazartesi</td>\n",
       "      <td>09:00</td>\n",
       "      <td>16:50</td>\n",
       "      <td>35</td>\n",
       "    </tr>\n",
       "    <tr>\n",
       "      <th>4</th>\n",
       "      <td>İKTİSAT_ECON102</td>\n",
       "      <td>İKTİSAT</td>\n",
       "      <td>ECON102</td>\n",
       "      <td>INTRODUCTION TO ECONOMICS II</td>\n",
       "      <td>B338-D1(DERSLİK1)[121]</td>\n",
       "      <td>KORAY GÖKSAL</td>\n",
       "      <td>1</td>\n",
       "      <td>Pazartesi</td>\n",
       "      <td>14:00</td>\n",
       "      <td>16:50</td>\n",
       "      <td>91</td>\n",
       "    </tr>\n",
       "  </tbody>\n",
       "</table>\n",
       "</div>"
      ],
      "text/plain": [
       "                      faculty_code                   faculty course_code  \\\n",
       "0  GÖRSEL İLETİŞİM TASARIMI_GSF102  GÖRSEL İLETİŞİM TASARIMI      GSF102   \n",
       "1  GÖRSEL İLETİŞİM TASARIMI_GSF106  GÖRSEL İLETİŞİM TASARIMI      GSF106   \n",
       "2  GÖRSEL İLETİŞİM TASARIMI_BLG102  GÖRSEL İLETİŞİM TASARIMI      BLG102   \n",
       "3                   İKTİSAT_ENG104                   İKTİSAT      ENG104   \n",
       "4                  İKTİSAT_ECON102                   İKTİSAT     ECON102   \n",
       "\n",
       "                     course_name                        class  \\\n",
       "0               TEMEL TASARIM II     L-102(GİT ATÖLYE II)[60]   \n",
       "1                       ÇİZİM II      L-101(GİT ATÖLYE I)[60]   \n",
       "2  BİLGİ TEKNOLOJİLERİ KULLANIMI   AZ 13(BİLGİSAYAR LAB.)[80]   \n",
       "3            ACADEMIC ENGLISH II  B382(KONFERANS SALONU)[143]   \n",
       "4   INTRODUCTION TO ECONOMICS II       B338-D1(DERSLİK1)[121]   \n",
       "\n",
       "                             teacher  year        day start_time end_time  \\\n",
       "0                      SEÇİL KARTOPU     1  Pazartesi      09:00    14:50   \n",
       "1       Öğr.Gör. İSMAİL FURKAN YAVUZ     1  Pazartesi      09:00    14:50   \n",
       "2               Öğr.Gör. AHMET AKSOY     1       Salı      09:00    15:50   \n",
       "3  Öğr.Gör. MÜGE AKGEDİK AKOĞLANOĞLU     1  Pazartesi      09:00    16:50   \n",
       "4                       KORAY GÖKSAL     1  Pazartesi      14:00    16:50   \n",
       "\n",
       "   student_nums  \n",
       "0            41  \n",
       "1            44  \n",
       "2            44  \n",
       "3            35  \n",
       "4            91  "
      ]
     },
     "execution_count": 6,
     "metadata": {},
     "output_type": "execute_result"
    }
   ],
   "source": [
    "data.head()"
   ]
  },
  {
   "cell_type": "code",
   "execution_count": 7,
   "metadata": {},
   "outputs": [
    {
     "name": "stdout",
     "output_type": "stream",
     "text": [
      "there are 11 columns and 623 rows\n"
     ]
    }
   ],
   "source": [
    "print(f'there are {len(data.columns)} columns and {len(data)} rows')"
   ]
  },
  {
   "cell_type": "markdown",
   "metadata": {},
   "source": [
    "Yes — **you absolutely should keep the `day` feature** when using the second option (the simpler model without class info). Great catch! 👏\n",
    "\n",
    "---\n",
    "\n",
    "### ✅ Why Include `day` in the Aggregated Model?\n",
    "\n",
    "Even if you drop detailed class info like `course_code` and `teacher`, the **day of the week** (e.g., Monday, Tuesday) can still impact student flow. For example:\n",
    "\n",
    "- **Mondays** might have heavier morning traffic.\n",
    "- **Fridays** might see early departures.\n",
    "- **Midweek** might have more evenly distributed classes.\n",
    "\n",
    "So the same `end_time` (say 10:00 AM) could have **very different bus stop densities** depending on the day.\n",
    "\n",
    "---\n",
    "\n",
    "### 🧠 How to Include `day` in Your Dataset?\n",
    "\n",
    "In your **aggregated dataset**, add a column for the day (as text or number).\n",
    "\n",
    "#### 🧾 Example Aggregated Dataset:\n",
    "\n",
    "| day       | end_time | total_students | bus_stop_count | density_level |\n",
    "|-----------|----------|----------------|----------------|---------------|\n",
    "| Monday    | 10:00    | 265            | 53             | Medium        |\n",
    "| Monday    | 10:10    | 265            | 133            | High          |\n",
    "| Tuesday   | 10:00    | 190            | 40             | Low           |\n",
    "| Friday    | 10:00    | 300            | 160            | High          |\n",
    "\n",
    "Then, **encode `day`** for the ML model:\n",
    "- Label encode (`Monday` → 0, `Tuesday` → 1, ...)  \n",
    "- Or one-hot encode (`is_Monday`, `is_Tuesday`, ...)\n",
    "\n",
    "---\n",
    "\n",
    "### ✅ Final Tip:\n",
    "Also consider adding **week numbers or exam weeks** in the future, if patterns change seasonally.\n",
    "\n",
    "Let me know if you want help **adding the `day` feature into the pipeline** or automating it in code."
   ]
  },
  {
   "cell_type": "markdown",
   "metadata": {},
   "source": [
    "### STEP 1: structure the data for the model"
   ]
  },
  {
   "cell_type": "code",
   "execution_count": 8,
   "metadata": {},
   "outputs": [
    {
     "name": "stdout",
     "output_type": "stream",
     "text": [
      "Index(['faculty_code', 'faculty', 'course_code', 'course_name', 'class',\n",
      "       'teacher', 'year', 'day', 'start_time', 'end_time', 'student_nums'],\n",
      "      dtype='object')\n"
     ]
    }
   ],
   "source": [
    "# list all the columns to drop\n",
    "\n",
    "print(data.columns)"
   ]
  },
  {
   "cell_type": "code",
   "execution_count": 9,
   "metadata": {},
   "outputs": [],
   "source": [
    "to_drop = ['faculty_code', 'faculty', 'course_name', 'class', 'year', 'start_time']"
   ]
  },
  {
   "cell_type": "code",
   "execution_count": 10,
   "metadata": {},
   "outputs": [],
   "source": [
    "data.drop(labels=to_drop,axis=1, inplace=True)"
   ]
  },
  {
   "cell_type": "code",
   "execution_count": 11,
   "metadata": {},
   "outputs": [
    {
     "name": "stdout",
     "output_type": "stream",
     "text": [
      "<class 'pandas.core.frame.DataFrame'>\n"
     ]
    }
   ],
   "source": [
    "print(type(data))"
   ]
  },
  {
   "cell_type": "code",
   "execution_count": 12,
   "metadata": {},
   "outputs": [],
   "source": [
    "import pandas as pd\n",
    "from datetime import datetime, timedelta\n",
    "\n",
    "def calculate_bus_stop_counts(df):\n",
    "    \"\"\"\n",
    "    Takes a class schedule DataFrame and returns a new DataFrame with time slots and bus_stop_count.\n",
    "    Works using minutes-from-midnight as time representation.\n",
    "    \n",
    "    Required columns in df:\n",
    "    - 'day' (e.g., Monday)\n",
    "    - 'end_time' (string in 'HH:MM' format)\n",
    "    - 'student_nums' (integer)\n",
    "    \"\"\"\n",
    "    \n",
    "    # Convert end_time to datetime for parsing, then extract minutes-from-midnight\n",
    "    df['end_time'] = pd.to_datetime(df['end_time'], format='%H:%M')\n",
    "    df['end_time_minutes'] = df['end_time'].dt.hour * 60 + df['end_time'].dt.minute\n",
    "    \n",
    "    time_slots = []\n",
    "\n",
    "    for _, row in df.iterrows():\n",
    "        end_time_min = row['end_time_minutes']\n",
    "        student_count = row['student_nums']\n",
    "        day = row['day']\n",
    "        \n",
    "        # Define departure distribution\n",
    "        departures = [\n",
    "            (0, 0.20),  # 0-5 minutes\n",
    "            (5, 0.50),  # 5-10 minutes\n",
    "            (10, 0.30)  # 10-15 minutes\n",
    "        ]\n",
    "\n",
    "        for offset, fraction in departures:\n",
    "            slot_min = end_time_min + offset  # Still in minutes-from-midnight\n",
    "            time_slots.append({\n",
    "                'day': day,\n",
    "                'time_slot_minutes': slot_min,\n",
    "                'bus_stop_count': int(student_count * fraction)\n",
    "            })\n",
    "\n",
    "    # Create DataFrame from list of time slots\n",
    "    result_df = pd.DataFrame(time_slots)\n",
    "\n",
    "    # Group by day and time slot to sum overlapping students\n",
    "    result_df = result_df.groupby(['day', 'time_slot_minutes'], as_index=False).sum()\n",
    "    #result_df['time_slot'] = result_df['time_slot_minutes'].apply(lambda x: f\"{x // 60:02}:{x % 60:02}\")\n",
    "\n",
    "\n",
    "    return result_df\n"
   ]
  },
  {
   "cell_type": "code",
   "execution_count": 13,
   "metadata": {},
   "outputs": [
    {
     "name": "stdout",
     "output_type": "stream",
     "text": [
      "          day  time_slot_minutes  bus_stop_count\n",
      "0        Cuma                650              30\n",
      "1        Cuma                655              78\n",
      "2        Cuma                660              46\n",
      "3        Cuma                710              91\n",
      "4        Cuma                715             232\n",
      "..        ...                ...             ...\n",
      "158  Çarşamba               1075              63\n",
      "159  Çarşamba               1080              37\n",
      "160  Çarşamba               1130              36\n",
      "161  Çarşamba               1135              91\n",
      "162  Çarşamba               1140              54\n",
      "\n",
      "[163 rows x 3 columns]\n"
     ]
    }
   ],
   "source": [
    "data = calculate_bus_stop_counts(data)\n",
    "print(data)"
   ]
  },
  {
   "cell_type": "code",
   "execution_count": 14,
   "metadata": {},
   "outputs": [],
   "source": [
    "def density_estimation(df):\n",
    "\n",
    "    # low -> 40 AND BELOW\n",
    "    # MEDIUM -> 41 - 80\n",
    "    # HIGH -> 81+\n",
    "\n",
    "    density = ['LOW', 'MEDIUM', 'HIGH']\n",
    "    student_density = []\n",
    "\n",
    "    for _, row in df.iterrows():\n",
    "\n",
    "        if row['bus_stop_count'] <= 40:\n",
    "            student_density.append(density[0]) \n",
    "        elif row['bus_stop_count'] > 40 and row['bus_stop_count'] <= 80:\n",
    "            student_density.append(density[1]) \n",
    "        elif row['bus_stop_count'] > 80:\n",
    "            student_density.append(density[2])\n",
    "\n",
    "    df['density'] = student_density \n",
    "    return df"
   ]
  },
  {
   "cell_type": "code",
   "execution_count": 15,
   "metadata": {},
   "outputs": [],
   "source": [
    "data = density_estimation(data)"
   ]
  },
  {
   "cell_type": "code",
   "execution_count": 16,
   "metadata": {},
   "outputs": [
    {
     "data": {
      "text/html": [
       "<div>\n",
       "<style scoped>\n",
       "    .dataframe tbody tr th:only-of-type {\n",
       "        vertical-align: middle;\n",
       "    }\n",
       "\n",
       "    .dataframe tbody tr th {\n",
       "        vertical-align: top;\n",
       "    }\n",
       "\n",
       "    .dataframe thead th {\n",
       "        text-align: right;\n",
       "    }\n",
       "</style>\n",
       "<table border=\"1\" class=\"dataframe\">\n",
       "  <thead>\n",
       "    <tr style=\"text-align: right;\">\n",
       "      <th></th>\n",
       "      <th>day</th>\n",
       "      <th>time_slot_minutes</th>\n",
       "      <th>bus_stop_count</th>\n",
       "      <th>density</th>\n",
       "    </tr>\n",
       "  </thead>\n",
       "  <tbody>\n",
       "    <tr>\n",
       "      <th>0</th>\n",
       "      <td>Cuma</td>\n",
       "      <td>650</td>\n",
       "      <td>30</td>\n",
       "      <td>LOW</td>\n",
       "    </tr>\n",
       "    <tr>\n",
       "      <th>1</th>\n",
       "      <td>Cuma</td>\n",
       "      <td>655</td>\n",
       "      <td>78</td>\n",
       "      <td>MEDIUM</td>\n",
       "    </tr>\n",
       "    <tr>\n",
       "      <th>2</th>\n",
       "      <td>Cuma</td>\n",
       "      <td>660</td>\n",
       "      <td>46</td>\n",
       "      <td>MEDIUM</td>\n",
       "    </tr>\n",
       "    <tr>\n",
       "      <th>3</th>\n",
       "      <td>Cuma</td>\n",
       "      <td>710</td>\n",
       "      <td>91</td>\n",
       "      <td>HIGH</td>\n",
       "    </tr>\n",
       "    <tr>\n",
       "      <th>4</th>\n",
       "      <td>Cuma</td>\n",
       "      <td>715</td>\n",
       "      <td>232</td>\n",
       "      <td>HIGH</td>\n",
       "    </tr>\n",
       "    <tr>\n",
       "      <th>...</th>\n",
       "      <td>...</td>\n",
       "      <td>...</td>\n",
       "      <td>...</td>\n",
       "      <td>...</td>\n",
       "    </tr>\n",
       "    <tr>\n",
       "      <th>158</th>\n",
       "      <td>Çarşamba</td>\n",
       "      <td>1075</td>\n",
       "      <td>63</td>\n",
       "      <td>MEDIUM</td>\n",
       "    </tr>\n",
       "    <tr>\n",
       "      <th>159</th>\n",
       "      <td>Çarşamba</td>\n",
       "      <td>1080</td>\n",
       "      <td>37</td>\n",
       "      <td>LOW</td>\n",
       "    </tr>\n",
       "    <tr>\n",
       "      <th>160</th>\n",
       "      <td>Çarşamba</td>\n",
       "      <td>1130</td>\n",
       "      <td>36</td>\n",
       "      <td>LOW</td>\n",
       "    </tr>\n",
       "    <tr>\n",
       "      <th>161</th>\n",
       "      <td>Çarşamba</td>\n",
       "      <td>1135</td>\n",
       "      <td>91</td>\n",
       "      <td>HIGH</td>\n",
       "    </tr>\n",
       "    <tr>\n",
       "      <th>162</th>\n",
       "      <td>Çarşamba</td>\n",
       "      <td>1140</td>\n",
       "      <td>54</td>\n",
       "      <td>MEDIUM</td>\n",
       "    </tr>\n",
       "  </tbody>\n",
       "</table>\n",
       "<p>163 rows × 4 columns</p>\n",
       "</div>"
      ],
      "text/plain": [
       "          day  time_slot_minutes  bus_stop_count density\n",
       "0        Cuma                650              30     LOW\n",
       "1        Cuma                655              78  MEDIUM\n",
       "2        Cuma                660              46  MEDIUM\n",
       "3        Cuma                710              91    HIGH\n",
       "4        Cuma                715             232    HIGH\n",
       "..        ...                ...             ...     ...\n",
       "158  Çarşamba               1075              63  MEDIUM\n",
       "159  Çarşamba               1080              37     LOW\n",
       "160  Çarşamba               1130              36     LOW\n",
       "161  Çarşamba               1135              91    HIGH\n",
       "162  Çarşamba               1140              54  MEDIUM\n",
       "\n",
       "[163 rows x 4 columns]"
      ]
     },
     "execution_count": 16,
     "metadata": {},
     "output_type": "execute_result"
    }
   ],
   "source": [
    "data"
   ]
  },
  {
   "cell_type": "markdown",
   "metadata": {},
   "source": [
    "next encoding"
   ]
  },
  {
   "cell_type": "code",
   "execution_count": 17,
   "metadata": {},
   "outputs": [],
   "source": [
    "from sklearn.preprocessing import OneHotEncoder, LabelEncoder\n"
   ]
  },
  {
   "cell_type": "code",
   "execution_count": 18,
   "metadata": {},
   "outputs": [],
   "source": [
    "density_col = data['density']"
   ]
  },
  {
   "cell_type": "code",
   "execution_count": 19,
   "metadata": {},
   "outputs": [
    {
     "name": "stdout",
     "output_type": "stream",
     "text": [
      "<class 'pandas.core.frame.DataFrame'>\n"
     ]
    }
   ],
   "source": [
    "print(type(data))"
   ]
  },
  {
   "cell_type": "code",
   "execution_count": 20,
   "metadata": {},
   "outputs": [
    {
     "name": "stdout",
     "output_type": "stream",
     "text": [
      "0         LOW\n",
      "1      MEDIUM\n",
      "2      MEDIUM\n",
      "3        HIGH\n",
      "4        HIGH\n",
      "        ...  \n",
      "158    MEDIUM\n",
      "159       LOW\n",
      "160       LOW\n",
      "161      HIGH\n",
      "162    MEDIUM\n",
      "Name: density, Length: 163, dtype: object\n"
     ]
    }
   ],
   "source": [
    "print(density_col)"
   ]
  },
  {
   "cell_type": "code",
   "execution_count": 21,
   "metadata": {},
   "outputs": [],
   "source": [
    "le = LabelEncoder()"
   ]
  },
  {
   "cell_type": "code",
   "execution_count": 22,
   "metadata": {},
   "outputs": [],
   "source": [
    "d_ = le.fit_transform(density_col)"
   ]
  },
  {
   "cell_type": "code",
   "execution_count": 23,
   "metadata": {},
   "outputs": [],
   "source": [
    "data['density'] = d_"
   ]
  },
  {
   "cell_type": "code",
   "execution_count": 24,
   "metadata": {},
   "outputs": [
    {
     "data": {
      "text/html": [
       "<div>\n",
       "<style scoped>\n",
       "    .dataframe tbody tr th:only-of-type {\n",
       "        vertical-align: middle;\n",
       "    }\n",
       "\n",
       "    .dataframe tbody tr th {\n",
       "        vertical-align: top;\n",
       "    }\n",
       "\n",
       "    .dataframe thead th {\n",
       "        text-align: right;\n",
       "    }\n",
       "</style>\n",
       "<table border=\"1\" class=\"dataframe\">\n",
       "  <thead>\n",
       "    <tr style=\"text-align: right;\">\n",
       "      <th></th>\n",
       "      <th>day</th>\n",
       "      <th>time_slot_minutes</th>\n",
       "      <th>bus_stop_count</th>\n",
       "      <th>density</th>\n",
       "    </tr>\n",
       "  </thead>\n",
       "  <tbody>\n",
       "    <tr>\n",
       "      <th>0</th>\n",
       "      <td>Cuma</td>\n",
       "      <td>650</td>\n",
       "      <td>30</td>\n",
       "      <td>1</td>\n",
       "    </tr>\n",
       "    <tr>\n",
       "      <th>1</th>\n",
       "      <td>Cuma</td>\n",
       "      <td>655</td>\n",
       "      <td>78</td>\n",
       "      <td>2</td>\n",
       "    </tr>\n",
       "    <tr>\n",
       "      <th>2</th>\n",
       "      <td>Cuma</td>\n",
       "      <td>660</td>\n",
       "      <td>46</td>\n",
       "      <td>2</td>\n",
       "    </tr>\n",
       "    <tr>\n",
       "      <th>3</th>\n",
       "      <td>Cuma</td>\n",
       "      <td>710</td>\n",
       "      <td>91</td>\n",
       "      <td>0</td>\n",
       "    </tr>\n",
       "    <tr>\n",
       "      <th>4</th>\n",
       "      <td>Cuma</td>\n",
       "      <td>715</td>\n",
       "      <td>232</td>\n",
       "      <td>0</td>\n",
       "    </tr>\n",
       "    <tr>\n",
       "      <th>...</th>\n",
       "      <td>...</td>\n",
       "      <td>...</td>\n",
       "      <td>...</td>\n",
       "      <td>...</td>\n",
       "    </tr>\n",
       "    <tr>\n",
       "      <th>158</th>\n",
       "      <td>Çarşamba</td>\n",
       "      <td>1075</td>\n",
       "      <td>63</td>\n",
       "      <td>2</td>\n",
       "    </tr>\n",
       "    <tr>\n",
       "      <th>159</th>\n",
       "      <td>Çarşamba</td>\n",
       "      <td>1080</td>\n",
       "      <td>37</td>\n",
       "      <td>1</td>\n",
       "    </tr>\n",
       "    <tr>\n",
       "      <th>160</th>\n",
       "      <td>Çarşamba</td>\n",
       "      <td>1130</td>\n",
       "      <td>36</td>\n",
       "      <td>1</td>\n",
       "    </tr>\n",
       "    <tr>\n",
       "      <th>161</th>\n",
       "      <td>Çarşamba</td>\n",
       "      <td>1135</td>\n",
       "      <td>91</td>\n",
       "      <td>0</td>\n",
       "    </tr>\n",
       "    <tr>\n",
       "      <th>162</th>\n",
       "      <td>Çarşamba</td>\n",
       "      <td>1140</td>\n",
       "      <td>54</td>\n",
       "      <td>2</td>\n",
       "    </tr>\n",
       "  </tbody>\n",
       "</table>\n",
       "<p>163 rows × 4 columns</p>\n",
       "</div>"
      ],
      "text/plain": [
       "          day  time_slot_minutes  bus_stop_count  density\n",
       "0        Cuma                650              30        1\n",
       "1        Cuma                655              78        2\n",
       "2        Cuma                660              46        2\n",
       "3        Cuma                710              91        0\n",
       "4        Cuma                715             232        0\n",
       "..        ...                ...             ...      ...\n",
       "158  Çarşamba               1075              63        2\n",
       "159  Çarşamba               1080              37        1\n",
       "160  Çarşamba               1130              36        1\n",
       "161  Çarşamba               1135              91        0\n",
       "162  Çarşamba               1140              54        2\n",
       "\n",
       "[163 rows x 4 columns]"
      ]
     },
     "execution_count": 24,
     "metadata": {},
     "output_type": "execute_result"
    }
   ],
   "source": [
    "data"
   ]
  },
  {
   "cell_type": "code",
   "execution_count": 25,
   "metadata": {},
   "outputs": [],
   "source": [
    "oh = OneHotEncoder()"
   ]
  },
  {
   "cell_type": "markdown",
   "metadata": {},
   "source": [
    "# one hot encoding for the days column\n",
    "## we commented it out because the randomforestclassifier does not need one hot encoding"
   ]
  },
  {
   "cell_type": "code",
   "execution_count": 26,
   "metadata": {},
   "outputs": [
    {
     "data": {
      "text/plain": [
       "\"\\ndays = pd.get_dummies(data['day'], prefix='day')\\nnew_drop = ['day']\\ndata.drop(labels=new_drop, axis=1, inplace=True)\\n_d = days.apply(le.fit_transform)\\ndata = data.join(_d)\\n\""
      ]
     },
     "execution_count": 26,
     "metadata": {},
     "output_type": "execute_result"
    }
   ],
   "source": [
    "\"\"\"\n",
    "days = pd.get_dummies(data['day'], prefix='day')\n",
    "new_drop = ['day']\n",
    "data.drop(labels=new_drop, axis=1, inplace=True)\n",
    "_d = days.apply(le.fit_transform)\n",
    "data = data.join(_d)\n",
    "\"\"\""
   ]
  },
  {
   "cell_type": "code",
   "execution_count": 27,
   "metadata": {},
   "outputs": [
    {
     "data": {
      "text/html": [
       "<div>\n",
       "<style scoped>\n",
       "    .dataframe tbody tr th:only-of-type {\n",
       "        vertical-align: middle;\n",
       "    }\n",
       "\n",
       "    .dataframe tbody tr th {\n",
       "        vertical-align: top;\n",
       "    }\n",
       "\n",
       "    .dataframe thead th {\n",
       "        text-align: right;\n",
       "    }\n",
       "</style>\n",
       "<table border=\"1\" class=\"dataframe\">\n",
       "  <thead>\n",
       "    <tr style=\"text-align: right;\">\n",
       "      <th></th>\n",
       "      <th>day</th>\n",
       "      <th>time_slot_minutes</th>\n",
       "      <th>bus_stop_count</th>\n",
       "      <th>density</th>\n",
       "    </tr>\n",
       "  </thead>\n",
       "  <tbody>\n",
       "    <tr>\n",
       "      <th>0</th>\n",
       "      <td>Cuma</td>\n",
       "      <td>650</td>\n",
       "      <td>30</td>\n",
       "      <td>1</td>\n",
       "    </tr>\n",
       "    <tr>\n",
       "      <th>1</th>\n",
       "      <td>Cuma</td>\n",
       "      <td>655</td>\n",
       "      <td>78</td>\n",
       "      <td>2</td>\n",
       "    </tr>\n",
       "    <tr>\n",
       "      <th>2</th>\n",
       "      <td>Cuma</td>\n",
       "      <td>660</td>\n",
       "      <td>46</td>\n",
       "      <td>2</td>\n",
       "    </tr>\n",
       "    <tr>\n",
       "      <th>3</th>\n",
       "      <td>Cuma</td>\n",
       "      <td>710</td>\n",
       "      <td>91</td>\n",
       "      <td>0</td>\n",
       "    </tr>\n",
       "    <tr>\n",
       "      <th>4</th>\n",
       "      <td>Cuma</td>\n",
       "      <td>715</td>\n",
       "      <td>232</td>\n",
       "      <td>0</td>\n",
       "    </tr>\n",
       "    <tr>\n",
       "      <th>...</th>\n",
       "      <td>...</td>\n",
       "      <td>...</td>\n",
       "      <td>...</td>\n",
       "      <td>...</td>\n",
       "    </tr>\n",
       "    <tr>\n",
       "      <th>158</th>\n",
       "      <td>Çarşamba</td>\n",
       "      <td>1075</td>\n",
       "      <td>63</td>\n",
       "      <td>2</td>\n",
       "    </tr>\n",
       "    <tr>\n",
       "      <th>159</th>\n",
       "      <td>Çarşamba</td>\n",
       "      <td>1080</td>\n",
       "      <td>37</td>\n",
       "      <td>1</td>\n",
       "    </tr>\n",
       "    <tr>\n",
       "      <th>160</th>\n",
       "      <td>Çarşamba</td>\n",
       "      <td>1130</td>\n",
       "      <td>36</td>\n",
       "      <td>1</td>\n",
       "    </tr>\n",
       "    <tr>\n",
       "      <th>161</th>\n",
       "      <td>Çarşamba</td>\n",
       "      <td>1135</td>\n",
       "      <td>91</td>\n",
       "      <td>0</td>\n",
       "    </tr>\n",
       "    <tr>\n",
       "      <th>162</th>\n",
       "      <td>Çarşamba</td>\n",
       "      <td>1140</td>\n",
       "      <td>54</td>\n",
       "      <td>2</td>\n",
       "    </tr>\n",
       "  </tbody>\n",
       "</table>\n",
       "<p>163 rows × 4 columns</p>\n",
       "</div>"
      ],
      "text/plain": [
       "          day  time_slot_minutes  bus_stop_count  density\n",
       "0        Cuma                650              30        1\n",
       "1        Cuma                655              78        2\n",
       "2        Cuma                660              46        2\n",
       "3        Cuma                710              91        0\n",
       "4        Cuma                715             232        0\n",
       "..        ...                ...             ...      ...\n",
       "158  Çarşamba               1075              63        2\n",
       "159  Çarşamba               1080              37        1\n",
       "160  Çarşamba               1130              36        1\n",
       "161  Çarşamba               1135              91        0\n",
       "162  Çarşamba               1140              54        2\n",
       "\n",
       "[163 rows x 4 columns]"
      ]
     },
     "execution_count": 27,
     "metadata": {},
     "output_type": "execute_result"
    }
   ],
   "source": [
    "data"
   ]
  },
  {
   "cell_type": "code",
   "execution_count": 28,
   "metadata": {},
   "outputs": [],
   "source": [
    "#data['day_encoded'] = le.fit_transform(data['day'])"
   ]
  },
  {
   "cell_type": "code",
   "execution_count": 29,
   "metadata": {},
   "outputs": [],
   "source": [
    "#data = data.drop(columns=['day'])\n"
   ]
  },
  {
   "cell_type": "code",
   "execution_count": 30,
   "metadata": {},
   "outputs": [
    {
     "data": {
      "text/html": [
       "<div>\n",
       "<style scoped>\n",
       "    .dataframe tbody tr th:only-of-type {\n",
       "        vertical-align: middle;\n",
       "    }\n",
       "\n",
       "    .dataframe tbody tr th {\n",
       "        vertical-align: top;\n",
       "    }\n",
       "\n",
       "    .dataframe thead th {\n",
       "        text-align: right;\n",
       "    }\n",
       "</style>\n",
       "<table border=\"1\" class=\"dataframe\">\n",
       "  <thead>\n",
       "    <tr style=\"text-align: right;\">\n",
       "      <th></th>\n",
       "      <th>day</th>\n",
       "      <th>time_slot_minutes</th>\n",
       "      <th>bus_stop_count</th>\n",
       "      <th>density</th>\n",
       "    </tr>\n",
       "  </thead>\n",
       "  <tbody>\n",
       "    <tr>\n",
       "      <th>0</th>\n",
       "      <td>Cuma</td>\n",
       "      <td>650</td>\n",
       "      <td>30</td>\n",
       "      <td>1</td>\n",
       "    </tr>\n",
       "    <tr>\n",
       "      <th>1</th>\n",
       "      <td>Cuma</td>\n",
       "      <td>655</td>\n",
       "      <td>78</td>\n",
       "      <td>2</td>\n",
       "    </tr>\n",
       "    <tr>\n",
       "      <th>2</th>\n",
       "      <td>Cuma</td>\n",
       "      <td>660</td>\n",
       "      <td>46</td>\n",
       "      <td>2</td>\n",
       "    </tr>\n",
       "    <tr>\n",
       "      <th>3</th>\n",
       "      <td>Cuma</td>\n",
       "      <td>710</td>\n",
       "      <td>91</td>\n",
       "      <td>0</td>\n",
       "    </tr>\n",
       "    <tr>\n",
       "      <th>4</th>\n",
       "      <td>Cuma</td>\n",
       "      <td>715</td>\n",
       "      <td>232</td>\n",
       "      <td>0</td>\n",
       "    </tr>\n",
       "    <tr>\n",
       "      <th>...</th>\n",
       "      <td>...</td>\n",
       "      <td>...</td>\n",
       "      <td>...</td>\n",
       "      <td>...</td>\n",
       "    </tr>\n",
       "    <tr>\n",
       "      <th>158</th>\n",
       "      <td>Çarşamba</td>\n",
       "      <td>1075</td>\n",
       "      <td>63</td>\n",
       "      <td>2</td>\n",
       "    </tr>\n",
       "    <tr>\n",
       "      <th>159</th>\n",
       "      <td>Çarşamba</td>\n",
       "      <td>1080</td>\n",
       "      <td>37</td>\n",
       "      <td>1</td>\n",
       "    </tr>\n",
       "    <tr>\n",
       "      <th>160</th>\n",
       "      <td>Çarşamba</td>\n",
       "      <td>1130</td>\n",
       "      <td>36</td>\n",
       "      <td>1</td>\n",
       "    </tr>\n",
       "    <tr>\n",
       "      <th>161</th>\n",
       "      <td>Çarşamba</td>\n",
       "      <td>1135</td>\n",
       "      <td>91</td>\n",
       "      <td>0</td>\n",
       "    </tr>\n",
       "    <tr>\n",
       "      <th>162</th>\n",
       "      <td>Çarşamba</td>\n",
       "      <td>1140</td>\n",
       "      <td>54</td>\n",
       "      <td>2</td>\n",
       "    </tr>\n",
       "  </tbody>\n",
       "</table>\n",
       "<p>163 rows × 4 columns</p>\n",
       "</div>"
      ],
      "text/plain": [
       "          day  time_slot_minutes  bus_stop_count  density\n",
       "0        Cuma                650              30        1\n",
       "1        Cuma                655              78        2\n",
       "2        Cuma                660              46        2\n",
       "3        Cuma                710              91        0\n",
       "4        Cuma                715             232        0\n",
       "..        ...                ...             ...      ...\n",
       "158  Çarşamba               1075              63        2\n",
       "159  Çarşamba               1080              37        1\n",
       "160  Çarşamba               1130              36        1\n",
       "161  Çarşamba               1135              91        0\n",
       "162  Çarşamba               1140              54        2\n",
       "\n",
       "[163 rows x 4 columns]"
      ]
     },
     "execution_count": 30,
     "metadata": {},
     "output_type": "execute_result"
    }
   ],
   "source": [
    "data"
   ]
  },
  {
   "cell_type": "code",
   "execution_count": 31,
   "metadata": {},
   "outputs": [
    {
     "data": {
      "text/html": [
       "<div>\n",
       "<style scoped>\n",
       "    .dataframe tbody tr th:only-of-type {\n",
       "        vertical-align: middle;\n",
       "    }\n",
       "\n",
       "    .dataframe tbody tr th {\n",
       "        vertical-align: top;\n",
       "    }\n",
       "\n",
       "    .dataframe thead th {\n",
       "        text-align: right;\n",
       "    }\n",
       "</style>\n",
       "<table border=\"1\" class=\"dataframe\">\n",
       "  <thead>\n",
       "    <tr style=\"text-align: right;\">\n",
       "      <th></th>\n",
       "      <th>day</th>\n",
       "      <th>time_slot_minutes</th>\n",
       "      <th>bus_stop_count</th>\n",
       "    </tr>\n",
       "  </thead>\n",
       "  <tbody>\n",
       "    <tr>\n",
       "      <th>0</th>\n",
       "      <td>Cuma</td>\n",
       "      <td>650</td>\n",
       "      <td>30</td>\n",
       "    </tr>\n",
       "    <tr>\n",
       "      <th>1</th>\n",
       "      <td>Cuma</td>\n",
       "      <td>655</td>\n",
       "      <td>78</td>\n",
       "    </tr>\n",
       "    <tr>\n",
       "      <th>2</th>\n",
       "      <td>Cuma</td>\n",
       "      <td>660</td>\n",
       "      <td>46</td>\n",
       "    </tr>\n",
       "    <tr>\n",
       "      <th>3</th>\n",
       "      <td>Cuma</td>\n",
       "      <td>710</td>\n",
       "      <td>91</td>\n",
       "    </tr>\n",
       "    <tr>\n",
       "      <th>4</th>\n",
       "      <td>Cuma</td>\n",
       "      <td>715</td>\n",
       "      <td>232</td>\n",
       "    </tr>\n",
       "    <tr>\n",
       "      <th>...</th>\n",
       "      <td>...</td>\n",
       "      <td>...</td>\n",
       "      <td>...</td>\n",
       "    </tr>\n",
       "    <tr>\n",
       "      <th>158</th>\n",
       "      <td>Çarşamba</td>\n",
       "      <td>1075</td>\n",
       "      <td>63</td>\n",
       "    </tr>\n",
       "    <tr>\n",
       "      <th>159</th>\n",
       "      <td>Çarşamba</td>\n",
       "      <td>1080</td>\n",
       "      <td>37</td>\n",
       "    </tr>\n",
       "    <tr>\n",
       "      <th>160</th>\n",
       "      <td>Çarşamba</td>\n",
       "      <td>1130</td>\n",
       "      <td>36</td>\n",
       "    </tr>\n",
       "    <tr>\n",
       "      <th>161</th>\n",
       "      <td>Çarşamba</td>\n",
       "      <td>1135</td>\n",
       "      <td>91</td>\n",
       "    </tr>\n",
       "    <tr>\n",
       "      <th>162</th>\n",
       "      <td>Çarşamba</td>\n",
       "      <td>1140</td>\n",
       "      <td>54</td>\n",
       "    </tr>\n",
       "  </tbody>\n",
       "</table>\n",
       "<p>163 rows × 3 columns</p>\n",
       "</div>"
      ],
      "text/plain": [
       "          day  time_slot_minutes  bus_stop_count\n",
       "0        Cuma                650              30\n",
       "1        Cuma                655              78\n",
       "2        Cuma                660              46\n",
       "3        Cuma                710              91\n",
       "4        Cuma                715             232\n",
       "..        ...                ...             ...\n",
       "158  Çarşamba               1075              63\n",
       "159  Çarşamba               1080              37\n",
       "160  Çarşamba               1130              36\n",
       "161  Çarşamba               1135              91\n",
       "162  Çarşamba               1140              54\n",
       "\n",
       "[163 rows x 3 columns]"
      ]
     },
     "execution_count": 31,
     "metadata": {},
     "output_type": "execute_result"
    }
   ],
   "source": [
    "data.drop('density', axis=1)"
   ]
  },
  {
   "cell_type": "markdown",
   "metadata": {},
   "source": [
    "## model"
   ]
  },
  {
   "cell_type": "code",
   "execution_count": 32,
   "metadata": {},
   "outputs": [],
   "source": [
    "import pandas as pd\n",
    "\n",
    "# Sample setup if not done already\n",
    "# data = pd.read_csv('your_data.csv') \n",
    "\n",
    "# Map Turkish days to weekday offsets\n",
    "day_to_offset = {\n",
    "    'Pazartesi': 0,\n",
    "    'Salı': 1,\n",
    "    'Çarşamba': 2,\n",
    "    'Perşembe': 3,\n",
    "    'Cuma': 4,\n",
    "    'Cumartesi': 5,\n",
    "    'Pazar': 6\n",
    "}\n",
    "\n",
    "# Map days to numeric offsets\n",
    "data['day_offset'] = data['day'].map(day_to_offset)\n",
    "\n",
    "# Debug tip: check for NaNs\n",
    "if data['day_offset'].isna().any():\n",
    "    print(\"⛔ Unmapped values:\")\n",
    "    print(data[data['day_offset'].isna()])\n",
    "\n",
    "# Construct datetime\n",
    "base_date = pd.Timestamp(\"2025-04-07\")  # Monday\n",
    "data['ds'] = data.apply(\n",
    "    lambda row: base_date + pd.to_timedelta(row['day_offset'], unit='D') +\n",
    "                pd.to_timedelta(row['time_slot_minutes'], unit='m'),\n",
    "    axis=1\n",
    ")\n",
    "\n",
    "# Rename target to 'y'\n",
    "data['y'] = data['bus_stop_count']\n",
    "\n",
    "# Final Prophet-ready format\n",
    "prophet_data = data[['ds', 'y']]\n"
   ]
  },
  {
   "cell_type": "code",
   "execution_count": 33,
   "metadata": {},
   "outputs": [
    {
     "data": {
      "text/html": [
       "<div>\n",
       "<style scoped>\n",
       "    .dataframe tbody tr th:only-of-type {\n",
       "        vertical-align: middle;\n",
       "    }\n",
       "\n",
       "    .dataframe tbody tr th {\n",
       "        vertical-align: top;\n",
       "    }\n",
       "\n",
       "    .dataframe thead th {\n",
       "        text-align: right;\n",
       "    }\n",
       "</style>\n",
       "<table border=\"1\" class=\"dataframe\">\n",
       "  <thead>\n",
       "    <tr style=\"text-align: right;\">\n",
       "      <th></th>\n",
       "      <th>ds</th>\n",
       "      <th>y</th>\n",
       "    </tr>\n",
       "  </thead>\n",
       "  <tbody>\n",
       "    <tr>\n",
       "      <th>0</th>\n",
       "      <td>2025-04-11 10:50:00</td>\n",
       "      <td>30</td>\n",
       "    </tr>\n",
       "    <tr>\n",
       "      <th>1</th>\n",
       "      <td>2025-04-11 10:55:00</td>\n",
       "      <td>78</td>\n",
       "    </tr>\n",
       "    <tr>\n",
       "      <th>2</th>\n",
       "      <td>2025-04-11 11:00:00</td>\n",
       "      <td>46</td>\n",
       "    </tr>\n",
       "    <tr>\n",
       "      <th>3</th>\n",
       "      <td>2025-04-11 11:50:00</td>\n",
       "      <td>91</td>\n",
       "    </tr>\n",
       "    <tr>\n",
       "      <th>4</th>\n",
       "      <td>2025-04-11 11:55:00</td>\n",
       "      <td>232</td>\n",
       "    </tr>\n",
       "    <tr>\n",
       "      <th>...</th>\n",
       "      <td>...</td>\n",
       "      <td>...</td>\n",
       "    </tr>\n",
       "    <tr>\n",
       "      <th>158</th>\n",
       "      <td>2025-04-09 17:55:00</td>\n",
       "      <td>63</td>\n",
       "    </tr>\n",
       "    <tr>\n",
       "      <th>159</th>\n",
       "      <td>2025-04-09 18:00:00</td>\n",
       "      <td>37</td>\n",
       "    </tr>\n",
       "    <tr>\n",
       "      <th>160</th>\n",
       "      <td>2025-04-09 18:50:00</td>\n",
       "      <td>36</td>\n",
       "    </tr>\n",
       "    <tr>\n",
       "      <th>161</th>\n",
       "      <td>2025-04-09 18:55:00</td>\n",
       "      <td>91</td>\n",
       "    </tr>\n",
       "    <tr>\n",
       "      <th>162</th>\n",
       "      <td>2025-04-09 19:00:00</td>\n",
       "      <td>54</td>\n",
       "    </tr>\n",
       "  </tbody>\n",
       "</table>\n",
       "<p>163 rows × 2 columns</p>\n",
       "</div>"
      ],
      "text/plain": [
       "                     ds    y\n",
       "0   2025-04-11 10:50:00   30\n",
       "1   2025-04-11 10:55:00   78\n",
       "2   2025-04-11 11:00:00   46\n",
       "3   2025-04-11 11:50:00   91\n",
       "4   2025-04-11 11:55:00  232\n",
       "..                  ...  ...\n",
       "158 2025-04-09 17:55:00   63\n",
       "159 2025-04-09 18:00:00   37\n",
       "160 2025-04-09 18:50:00   36\n",
       "161 2025-04-09 18:55:00   91\n",
       "162 2025-04-09 19:00:00   54\n",
       "\n",
       "[163 rows x 2 columns]"
      ]
     },
     "execution_count": 33,
     "metadata": {},
     "output_type": "execute_result"
    }
   ],
   "source": [
    "prophet_data"
   ]
  },
  {
   "cell_type": "code",
   "execution_count": 34,
   "metadata": {},
   "outputs": [],
   "source": [
    "from prophet import Prophet"
   ]
  },
  {
   "cell_type": "code",
   "execution_count": 35,
   "metadata": {},
   "outputs": [
    {
     "name": "stderr",
     "output_type": "stream",
     "text": [
      "10:33:58 - cmdstanpy - INFO - Chain [1] start processing\n",
      "10:33:59 - cmdstanpy - INFO - Chain [1] done processing\n"
     ]
    },
    {
     "data": {
      "text/plain": [
       "<prophet.forecaster.Prophet at 0x25649923fb0>"
      ]
     },
     "execution_count": 35,
     "metadata": {},
     "output_type": "execute_result"
    }
   ],
   "source": [
    "model = Prophet()\n",
    "model.fit(prophet_data)"
   ]
  },
  {
   "cell_type": "code",
   "execution_count": 36,
   "metadata": {},
   "outputs": [],
   "source": [
    "future = model.make_future_dataframe(periods= 36, freq='5min')\n",
    "forecast = model.predict(future)"
   ]
  },
  {
   "cell_type": "code",
   "execution_count": 37,
   "metadata": {},
   "outputs": [
    {
     "data": {
      "image/png": "[encoded data removed]",
      "text/plain": [
       "<Figure size 1000x600 with 1 Axes>"
      ]
     },
     "execution_count": 37,
     "metadata": {},
     "output_type": "execute_result"
    },
    {
     "data": {
      "image/png": "[encoded data removed]",
      "text/plain": [
       "<Figure size 1000x600 with 1 Axes>"
      ]
     },
     "metadata": {},
     "output_type": "display_data"
    }
   ],
   "source": [
    "model.plot(forecast)"
   ]
  },
  {
   "cell_type": "code",
   "execution_count": 38,
   "metadata": {},
   "outputs": [
    {
     "name": "stderr",
     "output_type": "stream",
     "text": [
      "10:34:00 - cmdstanpy - INFO - Chain [1] start processing\n",
      "10:34:00 - cmdstanpy - INFO - Chain [1] done processing\n"
     ]
    },
    {
     "name": "stdout",
     "output_type": "stream",
     "text": [
      "Test Set MAE: 133.22\n",
      "Test Set RMSE: 161.54\n"
     ]
    },
    {
     "data": {
      "image/png": "[encoded data removed]",
      "text/plain": [
       "<Figure size 1200x600 with 1 Axes>"
      ]
     },
     "metadata": {},
     "output_type": "display_data"
    }
   ],
   "source": [
    "from sklearn.metrics import mean_absolute_error, mean_squared_error\n",
    "import numpy as np\n",
    "import matplotlib.pyplot as plt\n",
    "\n",
    "prophet_data = prophet_data.sort_values('ds')\n",
    "\n",
    "split_index = len(prophet_data) - 36\n",
    "\n",
    "train_data = prophet_data.iloc[:split_index]\n",
    "test_data = prophet_data.iloc[split_index:]\n",
    "\n",
    "model = Prophet()\n",
    "model.fit(train_data)\n",
    "\n",
    "\n",
    "future = model.make_future_dataframe(periods=len(test_data), freq='5min')\n",
    "\n",
    "forecast = model.predict(future)\n",
    "\n",
    "\n",
    "forecast_test_period = forecast[forecast['ds'].isin(test_data['ds'])]\n",
    "\n",
    "results_df = pd.merge(test_data[['ds', 'y']], forecast_test_period[['ds', 'yhat', 'yhat_lower', 'yhat_upper']], on='ds')\n",
    "\n",
    "mae = mean_absolute_error(results_df['y'], results_df['yhat'])\n",
    "rmse = np.sqrt(mean_squared_error(results_df['y'], results_df['yhat']))\n",
    "\n",
    "print(f\"Test Set MAE: {mae:.2f}\")\n",
    "print(f\"Test Set RMSE: {rmse:.2f}\")\n",
    "\n",
    "# 6. Visualize the Forecast vs Actuals on the Test Set\n",
    "plt.figure(figsize=(12, 6))\n",
    "plt.plot(results_df['ds'], results_df['y'], label='Actual Test Data', marker='.', linestyle='None')\n",
    "plt.plot(results_df['ds'], results_df['yhat'], label='Forecast (yhat)', color='blue')\n",
    "plt.fill_between(results_df['ds'], results_df['yhat_lower'], results_df['yhat_upper'], color='blue', alpha=0.2, label='Uncertainty Interval')\n",
    "plt.title('Prophet Forecast vs Actuals on Test Set')\n",
    "plt.xlabel('ds')\n",
    "plt.ylabel('y')\n",
    "plt.legend()\n",
    "plt.grid(True)\n",
    "plt.show()\n"
   ]
  },
  {
   "cell_type": "markdown",
   "metadata": {},
   "source": [
    "Okay, let's interpret these test set results based on the plot and the metrics (MAE: 136.78, RMSE: 164.93).\n",
    "\n",
    "Interpretation:\n",
    "\n",
    "General Trend Capture: The blue forecast line (yhat) seems to capture the general upward trend present in the actual test data points during this 3-hour window (14:00 to 17:00). It recognizes that the values are generally increasing.\n",
    "\n",
    "Accuracy of Point Forecasts:\n",
    "\n",
    "The actual data points (blue dots) are quite scattered around the forecast line. Some points are close, but several are significantly far away.\n",
    "\n",
    "The MAE of 136.78 confirms this visual observation. On average, the model's prediction was off by about 137 units. Whether this is \"good\" or \"bad\" depends heavily on the scale and required precision for your application, but looking at your y-axis (ranging visually from roughly 0 to 700 in this plot), an average error of 137 seems quite substantial.\n",
    "\n",
    "The RMSE of 164.93 is higher than the MAE. This is expected, as RMSE penalizes larger errors more heavily. The difference between RMSE and MAE suggests that there are some specific predictions that were particularly inaccurate (likely the points furthest from the blue line, such as the highest point near 16:00 and the one just before 17:00), contributing disproportionately to the overall error.\n",
    "\n",
    "Volatility/Specificity: The model produces a relatively smooth forecast line. The actual data, however, shows more short-term volatility or noise. The model isn't capturing these finer-grained fluctuations or sharp peaks well.\n",
    "\n",
    "Uncertainty Interval:\n",
    "\n",
    "The light blue shaded area represents the model's uncertainty. Encouragingly, most of the actual data points fall within this uncertainty band. This suggests the model has a reasonable (though perhaps not perfect) estimate of its own prediction uncertainty for most of the period.\n",
    "\n",
    "However, the highest point around 16:00 appears to be right on the edge or potentially slightly outside the upper bound. This indicates that the model might be underestimating the possibility of these higher peaks occurring.\n",
    "\n",
    "As expected, the uncertainty interval widens over time, reflecting increased uncertainty further into the future.\n",
    "\n",
    "Overall Conclusion:\n",
    "\n",
    "The Prophet model, trained on the preceding data, was able to identify the general upward direction during the test period.\n",
    "\n",
    "However, its specific point predictions lack precision, leading to relatively high MAE and RMSE values compared to the scale of the data.\n",
    "\n",
    "The model smooths out the actual volatility and struggles to predict the exact timing and magnitude of peaks/dips within this short timeframe.\n",
    "\n",
    "The uncertainty intervals are mostly adequate but might be slightly too narrow to consistently capture the most extreme values observed in the test set.\n",
    "\n",
    "Possible Next Steps:\n",
    "\n",
    "Feature Engineering: Are there external factors (regressors) that influence y that could be added to the model?\n",
    "\n",
    "Parameter Tuning: Experiment with Prophet's parameters (changepoint_prior_scale, seasonality_prior_scale, seasonality_mode) to see if you can get a better fit or make it react more strongly to recent changes.\n",
    "\n",
    "Check Data: Re-examine the training data for anomalies or patterns that might explain the model's behavior. Ensure the 5-minute frequency is appropriate.\n",
    "\n",
    "Longer Test Set: Evaluate over a longer period to see if performance varies across different times or days."
   ]
  },
  {
   "cell_type": "code",
   "execution_count": 40,
   "metadata": {},
   "outputs": [],
   "source": [
    "a = pd.DataFrame()\n",
    "time = ['2025-04-16 16:00:00']\n",
    "a['ds'] = time\n",
    "r = model.predict(a)"
   ]
  },
  {
   "cell_type": "code",
   "execution_count": 41,
   "metadata": {},
   "outputs": [
    {
     "data": {
      "text/html": [
       "<div>\n",
       "<style scoped>\n",
       "    .dataframe tbody tr th:only-of-type {\n",
       "        vertical-align: middle;\n",
       "    }\n",
       "\n",
       "    .dataframe tbody tr th {\n",
       "        vertical-align: top;\n",
       "    }\n",
       "\n",
       "    .dataframe thead th {\n",
       "        text-align: right;\n",
       "    }\n",
       "</style>\n",
       "<table border=\"1\" class=\"dataframe\">\n",
       "  <thead>\n",
       "    <tr style=\"text-align: right;\">\n",
       "      <th></th>\n",
       "      <th>ds</th>\n",
       "      <th>trend</th>\n",
       "      <th>yhat_lower</th>\n",
       "      <th>yhat_upper</th>\n",
       "      <th>trend_lower</th>\n",
       "      <th>trend_upper</th>\n",
       "      <th>additive_terms</th>\n",
       "      <th>additive_terms_lower</th>\n",
       "      <th>additive_terms_upper</th>\n",
       "      <th>daily</th>\n",
       "      <th>daily_lower</th>\n",
       "      <th>daily_upper</th>\n",
       "      <th>multiplicative_terms</th>\n",
       "      <th>multiplicative_terms_lower</th>\n",
       "      <th>multiplicative_terms_upper</th>\n",
       "      <th>yhat</th>\n",
       "    </tr>\n",
       "  </thead>\n",
       "  <tbody>\n",
       "    <tr>\n",
       "      <th>0</th>\n",
       "      <td>2025-04-16 16:00:00</td>\n",
       "      <td>36.860285</td>\n",
       "      <td>70.748068</td>\n",
       "      <td>709.346778</td>\n",
       "      <td>36.860285</td>\n",
       "      <td>36.860285</td>\n",
       "      <td>357.017622</td>\n",
       "      <td>357.017622</td>\n",
       "      <td>357.017622</td>\n",
       "      <td>357.017622</td>\n",
       "      <td>357.017622</td>\n",
       "      <td>357.017622</td>\n",
       "      <td>0.0</td>\n",
       "      <td>0.0</td>\n",
       "      <td>0.0</td>\n",
       "      <td>393.877907</td>\n",
       "    </tr>\n",
       "  </tbody>\n",
       "</table>\n",
       "</div>"
      ],
      "text/plain": [
       "                   ds      trend  yhat_lower  yhat_upper  trend_lower  \\\n",
       "0 2025-04-16 16:00:00  36.860285   70.748068  709.346778    36.860285   \n",
       "\n",
       "   trend_upper  additive_terms  additive_terms_lower  additive_terms_upper  \\\n",
       "0    36.860285      357.017622            357.017622            357.017622   \n",
       "\n",
       "        daily  daily_lower  daily_upper  multiplicative_terms  \\\n",
       "0  357.017622   357.017622   357.017622                   0.0   \n",
       "\n",
       "   multiplicative_terms_lower  multiplicative_terms_upper        yhat  \n",
       "0                         0.0                         0.0  393.877907  "
      ]
     },
     "execution_count": 41,
     "metadata": {},
     "output_type": "execute_result"
    }
   ],
   "source": [
    "r"
   ]
  },
  {
   "cell_type": "code",
   "execution_count": null,
   "metadata": {},
   "outputs": [],
   "source": []
  }
 ],
 "metadata": {
  "kernelspec": {
   "display_name": "senior",
   "language": "python",
   "name": "python3"
  },
  "language_info": {
   "codemirror_mode": {
    "name": "ipython",
    "version": 3
   },
   "file_extension": ".py",
   "mimetype": "text/x-python",
   "name": "python",
   "nbconvert_exporter": "python",
   "pygments_lexer": "ipython3",
   "version": "3.12.9"
  }
 },
 "nbformat": 4,
 "nbformat_minor": 2
}
