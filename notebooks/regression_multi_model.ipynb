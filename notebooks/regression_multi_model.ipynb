{
 "cells": [
  {
   "cell_type": "markdown",
   "metadata": {},
   "source": [
    "# REGRESSION MULTI MODEL"
   ]
  },
  {
   "cell_type": "markdown",
   "metadata": {},
   "source": [
    "Great! The **multiple models per time segment** approach is super useful when:\n",
    "\n",
    "- Your data has **non-stationary behavior** — meaning patterns **change dramatically at different times of the day**.\n",
    "- You’ve already noticed large prediction errors during **certain time windows** (like 10:15 AM, 11 AM, 3 PM, 4 PM), suggesting that **one global model can't generalize well** across all segments.\n",
    "\n",
    "---\n",
    "\n",
    "### 🧠 What Is the Idea?\n",
    "\n",
    "Instead of training one model to cover the whole day, you **split the data into meaningful time windows** (segments), and train a **separate model for each segment**. This allows each model to **focus on learning the specific patterns** and student behavior unique to that time of day.\n",
    "\n",
    "---\n",
    "\n",
    "### 🕒 Example Segmentation\n",
    "\n",
    "You could segment by:\n",
    "\n",
    "| Segment Name | Time Slot Range (minutes) | Description |\n",
    "|--------------|---------------------------|-------------|\n",
    "| Morning      | 600–690 (10:00–11:30)     | Underpredicts a lot |\n",
    "| Midday       | 700–780 (11:40–1:00)      | Slight over |\n",
    "| Afternoon    | 790–870 (1:10–2:50)       | Mixed swings |\n",
    "| Peak PM      | 880–960 (3:00–4:40)       | Underpredicts heavily |\n",
    "| Other        | Rest of the day           | Mostly accurate |\n",
    "\n",
    "You can adjust those ranges based on your domain knowledge and error analysis.\n",
    "\n",
    "---\n",
    "\n",
    "### ⚙️ How It Works\n",
    "\n",
    "1. **Segment your training data** by `time_slot_minutes` using `pandas` filters.\n",
    "2. For each segment:\n",
    "   - Train a **separate model** (can be the same algorithm like `XGBRegressor`, or different ones).\n",
    "   - Save the model with a name like `\"xgb_model_morning.pkl\"`.\n",
    "3. During prediction:\n",
    "   - Based on the input's `time_slot_minutes`, select the **corresponding model**.\n",
    "   - Run the prediction using that model.\n",
    "\n",
    "---\n",
    "\n",
    "### ✅ Advantages\n",
    "\n",
    "- **Higher accuracy** during peaks and valleys.\n",
    "- Models can better learn **nuances and capacity issues** of different times.\n",
    "- Easier to debug or tune — each model is smaller and more focused.\n",
    "\n",
    "---\n",
    "\n",
    "### 🚧 Challenges\n",
    "\n",
    "- You need **enough training samples** per segment.\n",
    "- Slight increase in complexity for model selection and deployment.\n",
    "- Edge cases: time slots on the border (e.g. 690 or 700) might be trickier to place.\n",
    "\n",
    "---\n",
    "\n",
    "### 💡 Optimization Tips\n",
    "\n",
    "- Use the **same feature pipeline** for all segments to avoid inconsistency.\n",
    "- Add a `\"segment\"` column to the data to help label and group.\n",
    "- Start with **2-3 segments** and scale only if performance improves.\n",
    "\n",
    "---\n",
    "\n",
    "Would you like help splitting your data and training the first couple of models? We could try it out for, say, the **Morning** and **Afternoon** segments first."
   ]
  },
  {
   "cell_type": "code",
   "execution_count": 1,
   "metadata": {},
   "outputs": [],
   "source": [
    "import pandas as pd\n",
    "import sqlite3\n",
    "from data_collections.constants import SQLITE_DATABASE_MODEL"
   ]
  },
  {
   "cell_type": "code",
   "execution_count": 2,
   "metadata": {},
   "outputs": [],
   "source": [
    "TABLE_NAME = \"course_info\" "
   ]
  },
  {
   "cell_type": "code",
   "execution_count": 3,
   "metadata": {},
   "outputs": [],
   "source": [
    "connection = sqlite3.connect(SQLITE_DATABASE_MODEL)\n",
    "c = connection.cursor()"
   ]
  },
  {
   "cell_type": "code",
   "execution_count": 4,
   "metadata": {},
   "outputs": [],
   "source": [
    "obs_data = pd.read_sql_query(f'SELECT * FROM {TABLE_NAME}', connection)"
   ]
  },
  {
   "cell_type": "code",
   "execution_count": 5,
   "metadata": {},
   "outputs": [],
   "source": [
    "data = obs_data.copy()"
   ]
  },
  {
   "cell_type": "markdown",
   "metadata": {},
   "source": [
    "## skip all above"
   ]
  },
  {
   "cell_type": "code",
   "execution_count": 6,
   "metadata": {},
   "outputs": [],
   "source": [
    "data = pd.read_csv('class_model.csv')"
   ]
  },
  {
   "cell_type": "code",
   "execution_count": 7,
   "metadata": {},
   "outputs": [
    {
     "data": {
      "text/html": [
       "<div>\n",
       "<style scoped>\n",
       "    .dataframe tbody tr th:only-of-type {\n",
       "        vertical-align: middle;\n",
       "    }\n",
       "\n",
       "    .dataframe tbody tr th {\n",
       "        vertical-align: top;\n",
       "    }\n",
       "\n",
       "    .dataframe thead th {\n",
       "        text-align: right;\n",
       "    }\n",
       "</style>\n",
       "<table border=\"1\" class=\"dataframe\">\n",
       "  <thead>\n",
       "    <tr style=\"text-align: right;\">\n",
       "      <th></th>\n",
       "      <th>faculty_code</th>\n",
       "      <th>faculty</th>\n",
       "      <th>course_code</th>\n",
       "      <th>course_name</th>\n",
       "      <th>class</th>\n",
       "      <th>teacher</th>\n",
       "      <th>year</th>\n",
       "      <th>day</th>\n",
       "      <th>start_time</th>\n",
       "      <th>end_time</th>\n",
       "      <th>student_nums</th>\n",
       "    </tr>\n",
       "  </thead>\n",
       "  <tbody>\n",
       "    <tr>\n",
       "      <th>0</th>\n",
       "      <td>GÖRSEL İLETİŞİM TASARIMI_GSF102</td>\n",
       "      <td>GÖRSEL İLETİŞİM TASARIMI</td>\n",
       "      <td>GSF102</td>\n",
       "      <td>TEMEL TASARIM II</td>\n",
       "      <td>L-102(GİT ATÖLYE II)[60]</td>\n",
       "      <td>SEÇİL KARTOPU</td>\n",
       "      <td>1</td>\n",
       "      <td>Pazartesi</td>\n",
       "      <td>09:00</td>\n",
       "      <td>14:50</td>\n",
       "      <td>41</td>\n",
       "    </tr>\n",
       "    <tr>\n",
       "      <th>1</th>\n",
       "      <td>GÖRSEL İLETİŞİM TASARIMI_GSF106</td>\n",
       "      <td>GÖRSEL İLETİŞİM TASARIMI</td>\n",
       "      <td>GSF106</td>\n",
       "      <td>ÇİZİM II</td>\n",
       "      <td>L-101(GİT ATÖLYE I)[60]</td>\n",
       "      <td>Öğr.Gör. İSMAİL FURKAN YAVUZ</td>\n",
       "      <td>1</td>\n",
       "      <td>Pazartesi</td>\n",
       "      <td>09:00</td>\n",
       "      <td>14:50</td>\n",
       "      <td>44</td>\n",
       "    </tr>\n",
       "    <tr>\n",
       "      <th>2</th>\n",
       "      <td>GÖRSEL İLETİŞİM TASARIMI_BLG102</td>\n",
       "      <td>GÖRSEL İLETİŞİM TASARIMI</td>\n",
       "      <td>BLG102</td>\n",
       "      <td>BİLGİ TEKNOLOJİLERİ KULLANIMI</td>\n",
       "      <td>AZ 13(BİLGİSAYAR LAB.)[80]</td>\n",
       "      <td>Öğr.Gör. AHMET AKSOY</td>\n",
       "      <td>1</td>\n",
       "      <td>Salı</td>\n",
       "      <td>09:00</td>\n",
       "      <td>15:20</td>\n",
       "      <td>44</td>\n",
       "    </tr>\n",
       "    <tr>\n",
       "      <th>3</th>\n",
       "      <td>İKTİSAT_ENG104</td>\n",
       "      <td>İKTİSAT</td>\n",
       "      <td>ENG104</td>\n",
       "      <td>ACADEMIC ENGLISH II</td>\n",
       "      <td>B382(KONFERANS SALONU)[143]</td>\n",
       "      <td>Öğr.Gör. MÜGE AKGEDİK AKOĞLANOĞLU</td>\n",
       "      <td>1</td>\n",
       "      <td>Pazartesi</td>\n",
       "      <td>09:00</td>\n",
       "      <td>16:20</td>\n",
       "      <td>35</td>\n",
       "    </tr>\n",
       "    <tr>\n",
       "      <th>4</th>\n",
       "      <td>İKTİSAT_ECON102</td>\n",
       "      <td>İKTİSAT</td>\n",
       "      <td>ECON102</td>\n",
       "      <td>INTRODUCTION TO ECONOMICS II</td>\n",
       "      <td>B338-D1(DERSLİK1)[121]</td>\n",
       "      <td>KORAY GÖKSAL</td>\n",
       "      <td>1</td>\n",
       "      <td>Pazartesi</td>\n",
       "      <td>14:00</td>\n",
       "      <td>16:20</td>\n",
       "      <td>91</td>\n",
       "    </tr>\n",
       "  </tbody>\n",
       "</table>\n",
       "</div>"
      ],
      "text/plain": [
       "                      faculty_code                   faculty course_code  \\\n",
       "0  GÖRSEL İLETİŞİM TASARIMI_GSF102  GÖRSEL İLETİŞİM TASARIMI      GSF102   \n",
       "1  GÖRSEL İLETİŞİM TASARIMI_GSF106  GÖRSEL İLETİŞİM TASARIMI      GSF106   \n",
       "2  GÖRSEL İLETİŞİM TASARIMI_BLG102  GÖRSEL İLETİŞİM TASARIMI      BLG102   \n",
       "3                   İKTİSAT_ENG104                   İKTİSAT      ENG104   \n",
       "4                  İKTİSAT_ECON102                   İKTİSAT     ECON102   \n",
       "\n",
       "                     course_name                        class  \\\n",
       "0               TEMEL TASARIM II     L-102(GİT ATÖLYE II)[60]   \n",
       "1                       ÇİZİM II      L-101(GİT ATÖLYE I)[60]   \n",
       "2  BİLGİ TEKNOLOJİLERİ KULLANIMI   AZ 13(BİLGİSAYAR LAB.)[80]   \n",
       "3            ACADEMIC ENGLISH II  B382(KONFERANS SALONU)[143]   \n",
       "4   INTRODUCTION TO ECONOMICS II       B338-D1(DERSLİK1)[121]   \n",
       "\n",
       "                             teacher  year        day start_time end_time  \\\n",
       "0                      SEÇİL KARTOPU     1  Pazartesi      09:00    14:50   \n",
       "1       Öğr.Gör. İSMAİL FURKAN YAVUZ     1  Pazartesi      09:00    14:50   \n",
       "2               Öğr.Gör. AHMET AKSOY     1       Salı      09:00    15:20   \n",
       "3  Öğr.Gör. MÜGE AKGEDİK AKOĞLANOĞLU     1  Pazartesi      09:00    16:20   \n",
       "4                       KORAY GÖKSAL     1  Pazartesi      14:00    16:20   \n",
       "\n",
       "   student_nums  \n",
       "0            41  \n",
       "1            44  \n",
       "2            44  \n",
       "3            35  \n",
       "4            91  "
      ]
     },
     "execution_count": 7,
     "metadata": {},
     "output_type": "execute_result"
    }
   ],
   "source": [
    "data.head()"
   ]
  },
  {
   "cell_type": "code",
   "execution_count": 8,
   "metadata": {},
   "outputs": [
    {
     "name": "stdout",
     "output_type": "stream",
     "text": [
      "there are 11 columns and 572 rows\n"
     ]
    }
   ],
   "source": [
    "print(f'there are {len(data.columns)} columns and {len(data)} rows')"
   ]
  },
  {
   "cell_type": "markdown",
   "metadata": {},
   "source": [
    "### STEP 1: structure the data for the model"
   ]
  },
  {
   "cell_type": "code",
   "execution_count": 9,
   "metadata": {},
   "outputs": [
    {
     "name": "stdout",
     "output_type": "stream",
     "text": [
      "Index(['faculty_code', 'faculty', 'course_code', 'course_name', 'class',\n",
      "       'teacher', 'year', 'day', 'start_time', 'end_time', 'student_nums'],\n",
      "      dtype='object')\n"
     ]
    }
   ],
   "source": [
    "# list all the columns to drop\n",
    "\n",
    "print(data.columns)"
   ]
  },
  {
   "cell_type": "code",
   "execution_count": 10,
   "metadata": {},
   "outputs": [],
   "source": [
    "to_drop = ['faculty_code', 'faculty', 'course_name', 'class', 'year', 'start_time']"
   ]
  },
  {
   "cell_type": "code",
   "execution_count": 11,
   "metadata": {},
   "outputs": [],
   "source": [
    "data.drop(labels=to_drop,axis=1, inplace=True)"
   ]
  },
  {
   "cell_type": "code",
   "execution_count": 12,
   "metadata": {},
   "outputs": [
    {
     "name": "stdout",
     "output_type": "stream",
     "text": [
      "<class 'pandas.core.frame.DataFrame'>\n"
     ]
    }
   ],
   "source": [
    "print(type(data))"
   ]
  },
  {
   "cell_type": "code",
   "execution_count": 13,
   "metadata": {},
   "outputs": [],
   "source": [
    "import pandas as pd\n",
    "from datetime import datetime, timedelta\n",
    "\n",
    "def calculate_bus_stop_counts(df):\n",
    "    \"\"\"\n",
    "    Takes a class schedule DataFrame and returns a new DataFrame with time slots and bus_stop_count.\n",
    "    Works using minutes-from-midnight as time representation.\n",
    "    \n",
    "    Required columns in df:\n",
    "    - 'day' (e.g., Monday)\n",
    "    - 'end_time' (string in 'HH:MM' format)\n",
    "    - 'student_nums' (integer)\n",
    "    \"\"\"\n",
    "    \n",
    "    # Convert end_time to datetime for parsing, then extract minutes-from-midnight\n",
    "    df['end_time'] = pd.to_datetime(df['end_time'], format='%H:%M')\n",
    "    df['end_time_minutes'] = df['end_time'].dt.hour * 60 + df['end_time'].dt.minute\n",
    "    \n",
    "    time_slots = []\n",
    "\n",
    "    for _, row in df.iterrows():\n",
    "        end_time_min = row['end_time_minutes']\n",
    "        student_count = row['student_nums']\n",
    "        day = row['day']\n",
    "        \n",
    "        # Define departure distribution\n",
    "        departures = [\n",
    "            (0, 0.20),  # 0-5 minutes\n",
    "            (5, 0.50),  # 5-10 minutes\n",
    "            (10, 0.30)  # 10-15 minutes\n",
    "        ]\n",
    "\n",
    "        for offset, fraction in departures:\n",
    "            slot_min = end_time_min + offset  # Still in minutes-from-midnight\n",
    "            time_slots.append({\n",
    "                'day': day,\n",
    "                'time_slot_minutes': slot_min,\n",
    "                'bus_stop_count': int(student_count * fraction)\n",
    "            })\n",
    "\n",
    "    # Create DataFrame from list of time slots\n",
    "    result_df = pd.DataFrame(time_slots)\n",
    "\n",
    "    # Group by day and time slot to sum overlapping students\n",
    "    result_df = result_df.groupby(['day', 'time_slot_minutes'], as_index=False).sum()\n",
    "    #result_df['time_slot'] = result_df['time_slot_minutes'].apply(lambda x: f\"{x // 60:02}:{x % 60:02}\")\n",
    "\n",
    "\n",
    "    return result_df\n"
   ]
  },
  {
   "cell_type": "code",
   "execution_count": 14,
   "metadata": {},
   "outputs": [
    {
     "name": "stdout",
     "output_type": "stream",
     "text": [
      "          day  time_slot_minutes  bus_stop_count\n",
      "0        Cuma                650              30\n",
      "1        Cuma                655              78\n",
      "2        Cuma                660              46\n",
      "3        Cuma                710              91\n",
      "4        Cuma                715             232\n",
      "..        ...                ...             ...\n",
      "145  Çarşamba                985             488\n",
      "146  Çarşamba                990             288\n",
      "147  Çarşamba               1070              25\n",
      "148  Çarşamba               1075              63\n",
      "149  Çarşamba               1080              37\n",
      "\n",
      "[150 rows x 3 columns]\n"
     ]
    }
   ],
   "source": [
    "data = calculate_bus_stop_counts(data)\n",
    "print(data)"
   ]
  },
  {
   "cell_type": "markdown",
   "metadata": {},
   "source": [
    "next encoding"
   ]
  },
  {
   "cell_type": "code",
   "execution_count": 15,
   "metadata": {},
   "outputs": [],
   "source": [
    "from sklearn.preprocessing import OneHotEncoder, LabelEncoder\n"
   ]
  },
  {
   "cell_type": "markdown",
   "metadata": {},
   "source": [
    "# one hot encoding for the days column\n",
    "## we commented it out because the randomforestclassifier does not need one hot encoding"
   ]
  },
  {
   "cell_type": "code",
   "execution_count": 16,
   "metadata": {},
   "outputs": [
    {
     "data": {
      "text/plain": [
       "\"\\ndays = pd.get_dummies(data['day'], prefix='day')\\nnew_drop = ['day']\\ndata.drop(labels=new_drop, axis=1, inplace=True)\\n_d = days.apply(le.fit_transform)\\ndata = data.join(_d)\\n\""
      ]
     },
     "execution_count": 16,
     "metadata": {},
     "output_type": "execute_result"
    }
   ],
   "source": [
    "\"\"\"\n",
    "days = pd.get_dummies(data['day'], prefix='day')\n",
    "new_drop = ['day']\n",
    "data.drop(labels=new_drop, axis=1, inplace=True)\n",
    "_d = days.apply(le.fit_transform)\n",
    "data = data.join(_d)\n",
    "\"\"\""
   ]
  },
  {
   "cell_type": "code",
   "execution_count": 17,
   "metadata": {},
   "outputs": [
    {
     "data": {
      "text/html": [
       "<div>\n",
       "<style scoped>\n",
       "    .dataframe tbody tr th:only-of-type {\n",
       "        vertical-align: middle;\n",
       "    }\n",
       "\n",
       "    .dataframe tbody tr th {\n",
       "        vertical-align: top;\n",
       "    }\n",
       "\n",
       "    .dataframe thead th {\n",
       "        text-align: right;\n",
       "    }\n",
       "</style>\n",
       "<table border=\"1\" class=\"dataframe\">\n",
       "  <thead>\n",
       "    <tr style=\"text-align: right;\">\n",
       "      <th></th>\n",
       "      <th>day</th>\n",
       "      <th>time_slot_minutes</th>\n",
       "      <th>bus_stop_count</th>\n",
       "    </tr>\n",
       "  </thead>\n",
       "  <tbody>\n",
       "    <tr>\n",
       "      <th>0</th>\n",
       "      <td>Cuma</td>\n",
       "      <td>650</td>\n",
       "      <td>30</td>\n",
       "    </tr>\n",
       "    <tr>\n",
       "      <th>1</th>\n",
       "      <td>Cuma</td>\n",
       "      <td>655</td>\n",
       "      <td>78</td>\n",
       "    </tr>\n",
       "    <tr>\n",
       "      <th>2</th>\n",
       "      <td>Cuma</td>\n",
       "      <td>660</td>\n",
       "      <td>46</td>\n",
       "    </tr>\n",
       "    <tr>\n",
       "      <th>3</th>\n",
       "      <td>Cuma</td>\n",
       "      <td>710</td>\n",
       "      <td>91</td>\n",
       "    </tr>\n",
       "    <tr>\n",
       "      <th>4</th>\n",
       "      <td>Cuma</td>\n",
       "      <td>715</td>\n",
       "      <td>232</td>\n",
       "    </tr>\n",
       "    <tr>\n",
       "      <th>...</th>\n",
       "      <td>...</td>\n",
       "      <td>...</td>\n",
       "      <td>...</td>\n",
       "    </tr>\n",
       "    <tr>\n",
       "      <th>145</th>\n",
       "      <td>Çarşamba</td>\n",
       "      <td>985</td>\n",
       "      <td>488</td>\n",
       "    </tr>\n",
       "    <tr>\n",
       "      <th>146</th>\n",
       "      <td>Çarşamba</td>\n",
       "      <td>990</td>\n",
       "      <td>288</td>\n",
       "    </tr>\n",
       "    <tr>\n",
       "      <th>147</th>\n",
       "      <td>Çarşamba</td>\n",
       "      <td>1070</td>\n",
       "      <td>25</td>\n",
       "    </tr>\n",
       "    <tr>\n",
       "      <th>148</th>\n",
       "      <td>Çarşamba</td>\n",
       "      <td>1075</td>\n",
       "      <td>63</td>\n",
       "    </tr>\n",
       "    <tr>\n",
       "      <th>149</th>\n",
       "      <td>Çarşamba</td>\n",
       "      <td>1080</td>\n",
       "      <td>37</td>\n",
       "    </tr>\n",
       "  </tbody>\n",
       "</table>\n",
       "<p>150 rows × 3 columns</p>\n",
       "</div>"
      ],
      "text/plain": [
       "          day  time_slot_minutes  bus_stop_count\n",
       "0        Cuma                650              30\n",
       "1        Cuma                655              78\n",
       "2        Cuma                660              46\n",
       "3        Cuma                710              91\n",
       "4        Cuma                715             232\n",
       "..        ...                ...             ...\n",
       "145  Çarşamba                985             488\n",
       "146  Çarşamba                990             288\n",
       "147  Çarşamba               1070              25\n",
       "148  Çarşamba               1075              63\n",
       "149  Çarşamba               1080              37\n",
       "\n",
       "[150 rows x 3 columns]"
      ]
     },
     "execution_count": 17,
     "metadata": {},
     "output_type": "execute_result"
    }
   ],
   "source": [
    "data"
   ]
  },
  {
   "cell_type": "code",
   "execution_count": 18,
   "metadata": {},
   "outputs": [],
   "source": [
    "data.to_csv('day_time_stop.csv')"
   ]
  },
  {
   "cell_type": "code",
   "execution_count": 19,
   "metadata": {},
   "outputs": [],
   "source": [
    "le = LabelEncoder()"
   ]
  },
  {
   "cell_type": "code",
   "execution_count": 20,
   "metadata": {},
   "outputs": [],
   "source": [
    "data['day_encoded'] = le.fit_transform(data['day'])"
   ]
  },
  {
   "cell_type": "code",
   "execution_count": 21,
   "metadata": {},
   "outputs": [],
   "source": [
    "data = data.drop(columns=['day'])\n"
   ]
  },
  {
   "cell_type": "code",
   "execution_count": 22,
   "metadata": {},
   "outputs": [
    {
     "data": {
      "text/html": [
       "<div>\n",
       "<style scoped>\n",
       "    .dataframe tbody tr th:only-of-type {\n",
       "        vertical-align: middle;\n",
       "    }\n",
       "\n",
       "    .dataframe tbody tr th {\n",
       "        vertical-align: top;\n",
       "    }\n",
       "\n",
       "    .dataframe thead th {\n",
       "        text-align: right;\n",
       "    }\n",
       "</style>\n",
       "<table border=\"1\" class=\"dataframe\">\n",
       "  <thead>\n",
       "    <tr style=\"text-align: right;\">\n",
       "      <th></th>\n",
       "      <th>time_slot_minutes</th>\n",
       "      <th>bus_stop_count</th>\n",
       "      <th>day_encoded</th>\n",
       "    </tr>\n",
       "  </thead>\n",
       "  <tbody>\n",
       "    <tr>\n",
       "      <th>0</th>\n",
       "      <td>650</td>\n",
       "      <td>30</td>\n",
       "      <td>0</td>\n",
       "    </tr>\n",
       "    <tr>\n",
       "      <th>1</th>\n",
       "      <td>655</td>\n",
       "      <td>78</td>\n",
       "      <td>0</td>\n",
       "    </tr>\n",
       "    <tr>\n",
       "      <th>2</th>\n",
       "      <td>660</td>\n",
       "      <td>46</td>\n",
       "      <td>0</td>\n",
       "    </tr>\n",
       "    <tr>\n",
       "      <th>3</th>\n",
       "      <td>710</td>\n",
       "      <td>91</td>\n",
       "      <td>0</td>\n",
       "    </tr>\n",
       "    <tr>\n",
       "      <th>4</th>\n",
       "      <td>715</td>\n",
       "      <td>232</td>\n",
       "      <td>0</td>\n",
       "    </tr>\n",
       "    <tr>\n",
       "      <th>...</th>\n",
       "      <td>...</td>\n",
       "      <td>...</td>\n",
       "      <td>...</td>\n",
       "    </tr>\n",
       "    <tr>\n",
       "      <th>145</th>\n",
       "      <td>985</td>\n",
       "      <td>488</td>\n",
       "      <td>4</td>\n",
       "    </tr>\n",
       "    <tr>\n",
       "      <th>146</th>\n",
       "      <td>990</td>\n",
       "      <td>288</td>\n",
       "      <td>4</td>\n",
       "    </tr>\n",
       "    <tr>\n",
       "      <th>147</th>\n",
       "      <td>1070</td>\n",
       "      <td>25</td>\n",
       "      <td>4</td>\n",
       "    </tr>\n",
       "    <tr>\n",
       "      <th>148</th>\n",
       "      <td>1075</td>\n",
       "      <td>63</td>\n",
       "      <td>4</td>\n",
       "    </tr>\n",
       "    <tr>\n",
       "      <th>149</th>\n",
       "      <td>1080</td>\n",
       "      <td>37</td>\n",
       "      <td>4</td>\n",
       "    </tr>\n",
       "  </tbody>\n",
       "</table>\n",
       "<p>150 rows × 3 columns</p>\n",
       "</div>"
      ],
      "text/plain": [
       "     time_slot_minutes  bus_stop_count  day_encoded\n",
       "0                  650              30            0\n",
       "1                  655              78            0\n",
       "2                  660              46            0\n",
       "3                  710              91            0\n",
       "4                  715             232            0\n",
       "..                 ...             ...          ...\n",
       "145                985             488            4\n",
       "146                990             288            4\n",
       "147               1070              25            4\n",
       "148               1075              63            4\n",
       "149               1080              37            4\n",
       "\n",
       "[150 rows x 3 columns]"
      ]
     },
     "execution_count": 22,
     "metadata": {},
     "output_type": "execute_result"
    }
   ],
   "source": [
    "data"
   ]
  },
  {
   "cell_type": "markdown",
   "metadata": {},
   "source": [
    "add segemnts:\n",
    "-------\n",
    "12 am - 8 am --> 0 - 480 = morning\n",
    "-------\n",
    "8 am - 2 pm --> 480 - 840 = noon\n",
    "-------\n",
    "2 pm - 7 pm --> 840 - 1140 = evening\n",
    "-------\n",
    "7 pm - 12 am --> 1140 - 0 = night\n",
    "-------"
   ]
  },
  {
   "cell_type": "code",
   "execution_count": 23,
   "metadata": {},
   "outputs": [],
   "source": [
    "def add_segments(df):\n",
    "\n",
    "    segments = [0, 1, 2, 3]\n",
    "\n",
    "    sad = []\n",
    "    tsm = df['time_slot_minutes']\n",
    "\n",
    "    for i, t in enumerate(tsm):\n",
    "\n",
    "        if (tsm[i] >= 0) and (tsm[i] < 480):\n",
    "\n",
    "            sad.append(segments[0])\n",
    "        elif (tsm[i] >= 480) and (tsm[i] < 840):\n",
    "\n",
    "            sad.append(segments[1])\n",
    "        elif (tsm[i] >= 840) and (tsm[i] < 1140):\n",
    "\n",
    "            sad.append(segments[2])\n",
    "        elif (tsm[i] >= 1140) and (tsm[i] < 1440):\n",
    "\n",
    "            sad.append(segments[3])\n",
    "\n",
    "    df['segment'] = sad\n",
    "    return df"
   ]
  },
  {
   "cell_type": "code",
   "execution_count": 24,
   "metadata": {},
   "outputs": [],
   "source": [
    "data = add_segments(data)"
   ]
  },
  {
   "cell_type": "code",
   "execution_count": 25,
   "metadata": {},
   "outputs": [
    {
     "data": {
      "text/html": [
       "<div>\n",
       "<style scoped>\n",
       "    .dataframe tbody tr th:only-of-type {\n",
       "        vertical-align: middle;\n",
       "    }\n",
       "\n",
       "    .dataframe tbody tr th {\n",
       "        vertical-align: top;\n",
       "    }\n",
       "\n",
       "    .dataframe thead th {\n",
       "        text-align: right;\n",
       "    }\n",
       "</style>\n",
       "<table border=\"1\" class=\"dataframe\">\n",
       "  <thead>\n",
       "    <tr style=\"text-align: right;\">\n",
       "      <th></th>\n",
       "      <th>time_slot_minutes</th>\n",
       "      <th>bus_stop_count</th>\n",
       "      <th>day_encoded</th>\n",
       "      <th>segment</th>\n",
       "    </tr>\n",
       "  </thead>\n",
       "  <tbody>\n",
       "    <tr>\n",
       "      <th>0</th>\n",
       "      <td>650</td>\n",
       "      <td>30</td>\n",
       "      <td>0</td>\n",
       "      <td>1</td>\n",
       "    </tr>\n",
       "    <tr>\n",
       "      <th>1</th>\n",
       "      <td>655</td>\n",
       "      <td>78</td>\n",
       "      <td>0</td>\n",
       "      <td>1</td>\n",
       "    </tr>\n",
       "    <tr>\n",
       "      <th>2</th>\n",
       "      <td>660</td>\n",
       "      <td>46</td>\n",
       "      <td>0</td>\n",
       "      <td>1</td>\n",
       "    </tr>\n",
       "    <tr>\n",
       "      <th>3</th>\n",
       "      <td>710</td>\n",
       "      <td>91</td>\n",
       "      <td>0</td>\n",
       "      <td>1</td>\n",
       "    </tr>\n",
       "    <tr>\n",
       "      <th>4</th>\n",
       "      <td>715</td>\n",
       "      <td>232</td>\n",
       "      <td>0</td>\n",
       "      <td>1</td>\n",
       "    </tr>\n",
       "    <tr>\n",
       "      <th>...</th>\n",
       "      <td>...</td>\n",
       "      <td>...</td>\n",
       "      <td>...</td>\n",
       "      <td>...</td>\n",
       "    </tr>\n",
       "    <tr>\n",
       "      <th>145</th>\n",
       "      <td>985</td>\n",
       "      <td>488</td>\n",
       "      <td>4</td>\n",
       "      <td>2</td>\n",
       "    </tr>\n",
       "    <tr>\n",
       "      <th>146</th>\n",
       "      <td>990</td>\n",
       "      <td>288</td>\n",
       "      <td>4</td>\n",
       "      <td>2</td>\n",
       "    </tr>\n",
       "    <tr>\n",
       "      <th>147</th>\n",
       "      <td>1070</td>\n",
       "      <td>25</td>\n",
       "      <td>4</td>\n",
       "      <td>2</td>\n",
       "    </tr>\n",
       "    <tr>\n",
       "      <th>148</th>\n",
       "      <td>1075</td>\n",
       "      <td>63</td>\n",
       "      <td>4</td>\n",
       "      <td>2</td>\n",
       "    </tr>\n",
       "    <tr>\n",
       "      <th>149</th>\n",
       "      <td>1080</td>\n",
       "      <td>37</td>\n",
       "      <td>4</td>\n",
       "      <td>2</td>\n",
       "    </tr>\n",
       "  </tbody>\n",
       "</table>\n",
       "<p>150 rows × 4 columns</p>\n",
       "</div>"
      ],
      "text/plain": [
       "     time_slot_minutes  bus_stop_count  day_encoded  segment\n",
       "0                  650              30            0        1\n",
       "1                  655              78            0        1\n",
       "2                  660              46            0        1\n",
       "3                  710              91            0        1\n",
       "4                  715             232            0        1\n",
       "..                 ...             ...          ...      ...\n",
       "145                985             488            4        2\n",
       "146                990             288            4        2\n",
       "147               1070              25            4        2\n",
       "148               1075              63            4        2\n",
       "149               1080              37            4        2\n",
       "\n",
       "[150 rows x 4 columns]"
      ]
     },
     "execution_count": 25,
     "metadata": {},
     "output_type": "execute_result"
    }
   ],
   "source": [
    "data"
   ]
  },
  {
   "cell_type": "code",
   "execution_count": 26,
   "metadata": {},
   "outputs": [],
   "source": [
    "morning_data = data.loc[data['segment'] == 0].drop(labels='segment', axis=1)\n",
    "noon_data = data.loc[data['segment'] == 1].drop(labels='segment', axis=1)\n",
    "evening_data = data.loc[data['segment'] == 2].drop(labels='segment', axis=1)\n",
    "night_data = data.loc[data['segment'] == 3].drop(labels='segment', axis=1)"
   ]
  },
  {
   "cell_type": "code",
   "execution_count": 95,
   "metadata": {},
   "outputs": [],
   "source": [
    "noon_data.to_csv('regression_noon_model_data.csv', index=False)"
   ]
  },
  {
   "cell_type": "code",
   "execution_count": 96,
   "metadata": {},
   "outputs": [],
   "source": [
    "evening_data.to_csv('regression_evening_model_data.csv', index=False)"
   ]
  },
  {
   "cell_type": "markdown",
   "metadata": {},
   "source": [
    "only noon and evening have data"
   ]
  },
  {
   "cell_type": "markdown",
   "metadata": {},
   "source": [
    "## model imports"
   ]
  },
  {
   "cell_type": "code",
   "execution_count": 29,
   "metadata": {},
   "outputs": [],
   "source": [
    "from sklearn.model_selection import train_test_split\n",
    "from sklearn.ensemble import RandomForestRegressor, GradientBoostingRegressor\n",
    "from sklearn.linear_model import LinearRegression, PoissonRegressor\n",
    "from sklearn.gaussian_process import GaussianProcessRegressor\n",
    "from sklearn.metrics import mean_absolute_error, mean_absolute_percentage_error\n",
    "from sklearn.metrics import mean_squared_error, root_mean_squared_error, r2_score\n",
    "import xgboost as xgb"
   ]
  },
  {
   "cell_type": "markdown",
   "metadata": {},
   "source": [
    "## noon models"
   ]
  },
  {
   "cell_type": "code",
   "execution_count": 30,
   "metadata": {},
   "outputs": [],
   "source": [
    "noon_X = noon_data.drop(labels=['bus_stop_count'], axis=1)\n",
    "noon_y = noon_data['bus_stop_count']"
   ]
  },
  {
   "cell_type": "code",
   "execution_count": 31,
   "metadata": {},
   "outputs": [],
   "source": [
    "noon_X_train, noon_X_test, noon_y_train, noon_y_test = train_test_split(noon_X, noon_y, test_size=0.2, random_state=42)"
   ]
  },
  {
   "cell_type": "code",
   "execution_count": 32,
   "metadata": {},
   "outputs": [
    {
     "name": "stdout",
     "output_type": "stream",
     "text": [
      "Noon - RandomForestRegressor:\n",
      "\n",
      "mean absolute error = 60.660000000000004\n",
      "mean absolute percentage error = 1.0687658704653773\n",
      "mean squared error = 9660.666350000003\n",
      "root mean squared error = 98.28868882022999\n",
      "r2 score = 0.46420593129329246\n"
     ]
    }
   ],
   "source": [
    "noon_model = RandomForestRegressor(n_estimators=50)\n",
    "noon_model.fit(noon_X_train, noon_y_train)\n",
    "noon_y_predict = noon_model.predict(noon_X_test)\n",
    "print('Noon - RandomForestRegressor:\\n')\n",
    "print(f'mean absolute error = {mean_absolute_error(noon_y_test, noon_y_predict)}')\n",
    "print(f'mean absolute percentage error = {mean_absolute_percentage_error(noon_y_test, noon_y_predict)}')\n",
    "print(f'mean squared error = {mean_squared_error(noon_y_test, noon_y_predict)}')\n",
    "print(f'root mean squared error = {root_mean_squared_error(noon_y_test, noon_y_predict)}')\n",
    "print(f'r2 score = {r2_score(noon_y_test, noon_y_predict)}')"
   ]
  },
  {
   "cell_type": "code",
   "execution_count": 85,
   "metadata": {},
   "outputs": [
    {
     "name": "stdout",
     "output_type": "stream",
     "text": [
      "Noon - GradientBoostingRegressor:\n",
      "\n",
      "mean absolute error = 21.280019752943858\n",
      "mean absolute percentage error = 0.34464865306191106\n",
      "mean squared error = 883.5365035530037\n",
      "root mean squared error = 29.72434193641642\n",
      "r2 score = 0.950997829659073\n"
     ]
    }
   ],
   "source": [
    "noon_model = GradientBoostingRegressor(random_state=9,n_estimators=300, learning_rate=0.3, max_depth=5, subsample=0.8)\n",
    "noon_model.fit(noon_X_train, noon_y_train)\n",
    "noon_y_predict = noon_model.predict(noon_X_test)\n",
    "print('Noon - GradientBoostingRegressor:\\n')\n",
    "print(f'mean absolute error = {mean_absolute_error(noon_y_test, noon_y_predict)}')\n",
    "print(f'mean absolute percentage error = {mean_absolute_percentage_error(noon_y_test, noon_y_predict)}')\n",
    "print(f'mean squared error = {mean_squared_error(noon_y_test, noon_y_predict)}')\n",
    "print(f'root mean squared error = {root_mean_squared_error(noon_y_test, noon_y_predict)}')\n",
    "print(f'r2 score = {r2_score(noon_y_test, noon_y_predict)}')"
   ]
  },
  {
   "cell_type": "code",
   "execution_count": 86,
   "metadata": {},
   "outputs": [
    {
     "data": {
      "text/plain": [
       "\"\\nlogs = open('models.txt', 'a', encoding='utf-8')\\nfor i in range(1, 100):\\n\\n    noon_model = GradientBoostingRegressor(random_state=i, n_estimators=300, learning_rate=0.3, max_depth=5, subsample=0.8)\\n    noon_model.fit(noon_X_train, noon_y_train)\\n    noon_y_predict = noon_model.predict(noon_X_test)\\n    print(f'random_state = {i}')\\n    logs.write(f'random_state = {i}\\n')\\n    print('Noon - GradientBoostingRegressor:\\n')\\n    logs.write('Noon - GradientBoostingRegressor:\\n')\\n    print(f'mean absolute error = {mean_absolute_error(noon_y_test, noon_y_predict)}')\\n    logs.write(f'mean absolute error = {mean_absolute_error(noon_y_test, noon_y_predict)}\\n')\\n    print(f'mean absolute percentage error = {mean_absolute_percentage_error(noon_y_test, noon_y_predict)}')\\n    logs.write(f'mean absolute percentage error = {mean_absolute_percentage_error(noon_y_test, noon_y_predict)}\\n')\\n    print(f'mean squared error = {mean_squared_error(noon_y_test, noon_y_predict)}')\\n    logs.write(f'mean squared error = {mean_squared_error(noon_y_test, noon_y_predict)}\\n')\\n    print(f'root mean squared error = {root_mean_squared_error(noon_y_test, noon_y_predict)}')\\n    logs.write(f'root mean squared error = {root_mean_squared_error(noon_y_test, noon_y_predict)}\\n')\\n    print(f'r2 score = {r2_score(noon_y_test, noon_y_predict)}')\\n    logs.write(f'r2 score = {r2_score(noon_y_test, noon_y_predict)}\\n')\\n\""
      ]
     },
     "execution_count": 86,
     "metadata": {},
     "output_type": "execute_result"
    }
   ],
   "source": [
    "\"\"\"\n",
    "logs = open('models.txt', 'a', encoding='utf-8')\n",
    "for i in range(1, 100):\n",
    "    \n",
    "    noon_model = GradientBoostingRegressor(random_state=i, n_estimators=300, learning_rate=0.3, max_depth=5, subsample=0.8)\n",
    "    noon_model.fit(noon_X_train, noon_y_train)\n",
    "    noon_y_predict = noon_model.predict(noon_X_test)\n",
    "    print(f'random_state = {i}')\n",
    "    logs.write(f'random_state = {i}\\n')\n",
    "    print('Noon - GradientBoostingRegressor:\\n')\n",
    "    logs.write('Noon - GradientBoostingRegressor:\\n')\n",
    "    print(f'mean absolute error = {mean_absolute_error(noon_y_test, noon_y_predict)}')\n",
    "    logs.write(f'mean absolute error = {mean_absolute_error(noon_y_test, noon_y_predict)}\\n')\n",
    "    print(f'mean absolute percentage error = {mean_absolute_percentage_error(noon_y_test, noon_y_predict)}')\n",
    "    logs.write(f'mean absolute percentage error = {mean_absolute_percentage_error(noon_y_test, noon_y_predict)}\\n')\n",
    "    print(f'mean squared error = {mean_squared_error(noon_y_test, noon_y_predict)}')\n",
    "    logs.write(f'mean squared error = {mean_squared_error(noon_y_test, noon_y_predict)}\\n')\n",
    "    print(f'root mean squared error = {root_mean_squared_error(noon_y_test, noon_y_predict)}')\n",
    "    logs.write(f'root mean squared error = {root_mean_squared_error(noon_y_test, noon_y_predict)}\\n')\n",
    "    print(f'r2 score = {r2_score(noon_y_test, noon_y_predict)}')\n",
    "    logs.write(f'r2 score = {r2_score(noon_y_test, noon_y_predict)}\\n')\n",
    "\"\"\""
   ]
  },
  {
   "cell_type": "markdown",
   "metadata": {},
   "source": [
    "random_state = 9\n",
    "Noon - GradientBoostingRegressor:\n",
    "mean absolute error = 21.280019752943858\n",
    "mean absolute percentage error = 0.34464865306191106\n",
    "mean squared error = 883.5365035530037\n",
    "root mean squared error = 29.72434193641642\n",
    "r2 score = 0.950997829659073\n",
    "\n",
    "random_state = 18\n",
    "Noon - GradientBoostingRegressor:\n",
    "mean absolute error = 25.054809653268002\n",
    "mean absolute percentage error = 0.35867854746476313\n",
    "mean squared error = 1706.2372763915005\n",
    "root mean squared error = 41.306625090795066\n",
    "r2 score = 0.905369694038046\n",
    "\n",
    "random_state = 72\n",
    "Noon - GradientBoostingRegressor:\n",
    "mean absolute error = 26.81264387018733\n",
    "mean absolute percentage error = 0.6478380305582344\n",
    "mean squared error = 2034.1852652559555\n",
    "root mean squared error = 45.101943031935505\n",
    "r2 score = 0.8871812398557041\n",
    "\n",
    "random_state = 74\n",
    "Noon - GradientBoostingRegressor:\n",
    "mean absolute error = 27.754339885463104\n",
    "mean absolute percentage error = 0.42162807193320706\n",
    "mean squared error = 2159.3570751356556\n",
    "root mean squared error = 46.46888286946067\n",
    "r2 score = 0.8802390361946877"
   ]
  },
  {
   "cell_type": "code",
   "execution_count": 87,
   "metadata": {},
   "outputs": [
    {
     "data": {
      "text/plain": [
       "<Axes: xlabel='time_slot_minutes'>"
      ]
     },
     "execution_count": 87,
     "metadata": {},
     "output_type": "execute_result"
    },
    {
     "data": {
      "image/png": "[encoded data removed]",
      "text/plain": [
       "<Figure size 640x480 with 1 Axes>"
      ]
     },
     "metadata": {},
     "output_type": "display_data"
    }
   ],
   "source": [
    "df_results = noon_X_test.copy()\n",
    "df_results[\"actual\"] = noon_y_test\n",
    "df_results[\"predicted\"] = noon_y_predict\n",
    "df_results[\"error\"] = df_results[\"actual\"] - df_results[\"predicted\"]\n",
    "\n",
    "# Example: error trend by time slot\n",
    "df_results.groupby(\"time_slot_minutes\")[\"error\"].mean().plot(kind='bar')"
   ]
  },
  {
   "cell_type": "code",
   "execution_count": 94,
   "metadata": {},
   "outputs": [],
   "source": [
    "noon_data.to_csv('regression_noon_model_data1.csv')"
   ]
  },
  {
   "cell_type": "markdown",
   "metadata": {},
   "source": [
    "overpredicts by 70 at 10:55 am"
   ]
  },
  {
   "cell_type": "code",
   "execution_count": 91,
   "metadata": {},
   "outputs": [],
   "source": [
    "ggg = noon_data.loc[(noon_data['time_slot_minutes'] == 725) & (noon_data['day_encoded'] == 0)]\n",
    "time_slot_minutes =[713]\n",
    "day_encoded = [0]\n",
    "noon_new_data = pd.DataFrame({'time_slot_minutes': time_slot_minutes, 'day_encoded':day_encoded})\n",
    "noon_new_pred = noon_model.predict(noon_new_data)"
   ]
  },
  {
   "cell_type": "code",
   "execution_count": 92,
   "metadata": {},
   "outputs": [
    {
     "data": {
      "text/html": [
       "<div>\n",
       "<style scoped>\n",
       "    .dataframe tbody tr th:only-of-type {\n",
       "        vertical-align: middle;\n",
       "    }\n",
       "\n",
       "    .dataframe tbody tr th {\n",
       "        vertical-align: top;\n",
       "    }\n",
       "\n",
       "    .dataframe thead th {\n",
       "        text-align: right;\n",
       "    }\n",
       "</style>\n",
       "<table border=\"1\" class=\"dataframe\">\n",
       "  <thead>\n",
       "    <tr style=\"text-align: right;\">\n",
       "      <th></th>\n",
       "      <th>time_slot_minutes</th>\n",
       "      <th>bus_stop_count</th>\n",
       "      <th>day_encoded</th>\n",
       "    </tr>\n",
       "  </thead>\n",
       "  <tbody>\n",
       "  </tbody>\n",
       "</table>\n",
       "</div>"
      ],
      "text/plain": [
       "Empty DataFrame\n",
       "Columns: [time_slot_minutes, bus_stop_count, day_encoded]\n",
       "Index: []"
      ]
     },
     "execution_count": 92,
     "metadata": {},
     "output_type": "execute_result"
    }
   ],
   "source": [
    "ggg"
   ]
  },
  {
   "cell_type": "code",
   "execution_count": 93,
   "metadata": {},
   "outputs": [
    {
     "data": {
      "text/plain": [
       "array([262.19861649])"
      ]
     },
     "execution_count": 93,
     "metadata": {},
     "output_type": "execute_result"
    }
   ],
   "source": [
    "noon_new_pred"
   ]
  },
  {
   "cell_type": "code",
   "execution_count": 39,
   "metadata": {},
   "outputs": [
    {
     "name": "stdout",
     "output_type": "stream",
     "text": [
      "Noon - LinearRegression:\n",
      "\n",
      "mean absolute error = 122.83562609266853\n",
      "mean absolute percentage error = 4.207787114678406\n",
      "mean squared error = 18430.12312697782\n",
      "root mean squared error = 135.7575895741296\n",
      "r2 score = -0.022160407906958834\n"
     ]
    }
   ],
   "source": [
    "noon_model = LinearRegression()\n",
    "noon_model.fit(noon_X_train, noon_y_train)\n",
    "noon_y_predict = noon_model.predict(noon_X_test)\n",
    "print('Noon - LinearRegression:\\n')\n",
    "print(f'mean absolute error = {mean_absolute_error(noon_y_test, noon_y_predict)}')\n",
    "print(f'mean absolute percentage error = {mean_absolute_percentage_error(noon_y_test, noon_y_predict)}')\n",
    "print(f'mean squared error = {mean_squared_error(noon_y_test, noon_y_predict)}')\n",
    "print(f'root mean squared error = {root_mean_squared_error(noon_y_test, noon_y_predict)}')\n",
    "print(f'r2 score = {r2_score(noon_y_test, noon_y_predict)}')"
   ]
  },
  {
   "cell_type": "code",
   "execution_count": 40,
   "metadata": {},
   "outputs": [
    {
     "name": "stdout",
     "output_type": "stream",
     "text": [
      "Noon - PoissonRegressor:\n",
      "\n",
      "mean absolute error = 136.6484375\n",
      "mean absolute percentage error = 5.0310837579134855\n",
      "mean squared error = 23158.46118164063\n",
      "root mean squared error = 152.17904317494123\n",
      "r2 score = -0.2844006502199068\n"
     ]
    },
    {
     "name": "stderr",
     "output_type": "stream",
     "text": [
      "c:\\Users\\Owner\\miniconda3\\envs\\senior\\Lib\\site-packages\\sklearn\\linear_model\\_linear_loss.py:330: RuntimeWarning: invalid value encountered in matmul\n",
      "  grad[:n_features] = X.T @ grad_pointwise + l2_reg_strength * weights\n"
     ]
    }
   ],
   "source": [
    "noon_model = PoissonRegressor()\n",
    "noon_model.fit(noon_X_train, noon_y_train)\n",
    "noon_y_predict = noon_model.predict(noon_X_test)\n",
    "print('Noon - PoissonRegressor:\\n')\n",
    "print(f'mean absolute error = {mean_absolute_error(noon_y_test, noon_y_predict)}')\n",
    "print(f'mean absolute percentage error = {mean_absolute_percentage_error(noon_y_test, noon_y_predict)}')\n",
    "print(f'mean squared error = {mean_squared_error(noon_y_test, noon_y_predict)}')\n",
    "print(f'root mean squared error = {root_mean_squared_error(noon_y_test, noon_y_predict)}')\n",
    "print(f'r2 score = {r2_score(noon_y_test, noon_y_predict)}')"
   ]
  },
  {
   "cell_type": "code",
   "execution_count": 41,
   "metadata": {},
   "outputs": [
    {
     "name": "stdout",
     "output_type": "stream",
     "text": [
      "Noon - GaussianProcessRegressor:\n",
      "\n",
      "mean absolute error = 79.15260367829282\n",
      "mean absolute percentage error = 0.688616534133842\n",
      "mean squared error = 14211.635228780104\n",
      "root mean squared error = 119.21256321705403\n",
      "r2 score = 0.21180283157137814\n"
     ]
    }
   ],
   "source": [
    "noon_model = GaussianProcessRegressor(alpha=0.3)\n",
    "noon_model.fit(noon_X_train, noon_y_train)\n",
    "noon_y_predict = noon_model.predict(noon_X_test)\n",
    "print('Noon - GaussianProcessRegressor:\\n')\n",
    "print(f'mean absolute error = {mean_absolute_error(noon_y_test, noon_y_predict)}')\n",
    "print(f'mean absolute percentage error = {mean_absolute_percentage_error(noon_y_test, noon_y_predict)}')\n",
    "print(f'mean squared error = {mean_squared_error(noon_y_test, noon_y_predict)}')\n",
    "print(f'root mean squared error = {root_mean_squared_error(noon_y_test, noon_y_predict)}')\n",
    "print(f'r2 score = {r2_score(noon_y_test, noon_y_predict)}')"
   ]
  },
  {
   "cell_type": "code",
   "execution_count": 42,
   "metadata": {},
   "outputs": [
    {
     "name": "stdout",
     "output_type": "stream",
     "text": [
      "Noon - XGBRegressor:\n",
      "\n",
      "mean absolute error = 56.533809661865234\n",
      "mean absolute percentage error = 0.9012734889984131\n",
      "mean squared error = 15683.7060546875\n",
      "root mean squared error = 125.23460388183594\n",
      "r2 score = 0.13015973567962646\n"
     ]
    }
   ],
   "source": [
    "noon_model = xgb.XGBRegressor(random_state=42)\n",
    "noon_model.fit(noon_X_train, noon_y_train)\n",
    "noon_y_predict = noon_model.predict(noon_X_test)\n",
    "print('Noon - XGBRegressor:\\n')\n",
    "print(f'mean absolute error = {mean_absolute_error(noon_y_test, noon_y_predict)}')\n",
    "print(f'mean absolute percentage error = {mean_absolute_percentage_error(noon_y_test, noon_y_predict)}')\n",
    "print(f'mean squared error = {mean_squared_error(noon_y_test, noon_y_predict)}')\n",
    "print(f'root mean squared error = {root_mean_squared_error(noon_y_test, noon_y_predict)}')\n",
    "print(f'r2 score = {r2_score(noon_y_test, noon_y_predict)}')"
   ]
  },
  {
   "cell_type": "code",
   "execution_count": 43,
   "metadata": {},
   "outputs": [
    {
     "data": {
      "text/plain": [
       "<Axes: xlabel='time_slot_minutes'>"
      ]
     },
     "execution_count": 43,
     "metadata": {},
     "output_type": "execute_result"
    },
    {
     "data": {
      "image/png": "[encoded data removed]",
      "text/plain": [
       "<Figure size 640x480 with 1 Axes>"
      ]
     },
     "metadata": {},
     "output_type": "display_data"
    }
   ],
   "source": [
    "df_results = noon_X_test.copy()\n",
    "df_results[\"actual\"] = noon_y_test\n",
    "df_results[\"predicted\"] = noon_y_predict\n",
    "df_results[\"error\"] = df_results[\"actual\"] - df_results[\"predicted\"]\n",
    "\n",
    "# Example: error trend by time slot\n",
    "df_results.groupby(\"time_slot_minutes\")[\"error\"].mean().plot(kind='bar')"
   ]
  },
  {
   "cell_type": "code",
   "execution_count": 44,
   "metadata": {},
   "outputs": [],
   "source": [
    "ggg = noon_data.loc[(noon_data['time_slot_minutes'] == 725) & (noon_data['day_encoded'] == 0)]\n",
    "time_slot_minutes =[713]\n",
    "day_encoded = [0]\n",
    "noon_new_data = pd.DataFrame({'time_slot_minutes': time_slot_minutes, 'day_encoded':day_encoded})\n",
    "noon_new_pred = noon_model.predict(noon_new_data)"
   ]
  },
  {
   "cell_type": "code",
   "execution_count": 45,
   "metadata": {},
   "outputs": [
    {
     "data": {
      "text/html": [
       "<div>\n",
       "<style scoped>\n",
       "    .dataframe tbody tr th:only-of-type {\n",
       "        vertical-align: middle;\n",
       "    }\n",
       "\n",
       "    .dataframe tbody tr th {\n",
       "        vertical-align: top;\n",
       "    }\n",
       "\n",
       "    .dataframe thead th {\n",
       "        text-align: right;\n",
       "    }\n",
       "</style>\n",
       "<table border=\"1\" class=\"dataframe\">\n",
       "  <thead>\n",
       "    <tr style=\"text-align: right;\">\n",
       "      <th></th>\n",
       "      <th>time_slot_minutes</th>\n",
       "      <th>bus_stop_count</th>\n",
       "      <th>day_encoded</th>\n",
       "    </tr>\n",
       "  </thead>\n",
       "  <tbody>\n",
       "  </tbody>\n",
       "</table>\n",
       "</div>"
      ],
      "text/plain": [
       "Empty DataFrame\n",
       "Columns: [time_slot_minutes, bus_stop_count, day_encoded]\n",
       "Index: []"
      ]
     },
     "execution_count": 45,
     "metadata": {},
     "output_type": "execute_result"
    }
   ],
   "source": [
    "ggg"
   ]
  },
  {
   "cell_type": "code",
   "execution_count": 46,
   "metadata": {},
   "outputs": [
    {
     "data": {
      "text/plain": [
       "array([91.00484], dtype=float32)"
      ]
     },
     "execution_count": 46,
     "metadata": {},
     "output_type": "execute_result"
    }
   ],
   "source": [
    "noon_new_pred"
   ]
  },
  {
   "cell_type": "code",
   "execution_count": 47,
   "metadata": {},
   "outputs": [
    {
     "name": "stdout",
     "output_type": "stream",
     "text": [
      "Noon - XGBRegressor:\n",
      "\n",
      "mean absolute error = 100.11380004882812\n",
      "mean absolute percentage error = 1.9931617975234985\n",
      "mean squared error = 36014.6484375\n",
      "root mean squared error = 189.77525329589844\n",
      "r2 score = -0.9974228143692017\n"
     ]
    },
    {
     "data": {
      "text/plain": [
       "<Axes: title={'center': 'Feature importance'}, xlabel='Importance score', ylabel='Features'>"
      ]
     },
     "execution_count": 47,
     "metadata": {},
     "output_type": "execute_result"
    },
    {
     "data": {
      "image/png": "[encoded data removed]",
      "text/plain": [
       "<Figure size 640x480 with 1 Axes>"
      ]
     },
     "metadata": {},
     "output_type": "display_data"
    }
   ],
   "source": [
    "noon_model = xgb.XGBRegressor(\n",
    "    n_estimators=50,\n",
    "    learning_rate=0.5,\n",
    "    max_depth=60,\n",
    "    subsample=0.9,\n",
    "    colsample_bytree=0.8,\n",
    "    reg_alpha=0.3,\n",
    "    reg_lambda=1.0\n",
    ")\n",
    "noon_model.fit(noon_X_train, noon_y_train)\n",
    "noon_y_predict = noon_model.predict(noon_X_test)\n",
    "print('Noon - XGBRegressor:\\n')\n",
    "print(f'mean absolute error = {mean_absolute_error(noon_y_test, noon_y_predict)}')\n",
    "print(f'mean absolute percentage error = {mean_absolute_percentage_error(noon_y_test, noon_y_predict)}')\n",
    "print(f'mean squared error = {mean_squared_error(noon_y_test, noon_y_predict)}')\n",
    "print(f'root mean squared error = {root_mean_squared_error(noon_y_test, noon_y_predict)}')\n",
    "print(f'r2 score = {r2_score(noon_y_test, noon_y_predict)}')\n",
    "from xgboost import plot_importance\n",
    "plot_importance(noon_model)\n"
   ]
  },
  {
   "cell_type": "code",
   "execution_count": 48,
   "metadata": {},
   "outputs": [
    {
     "data": {
      "image/png": "[encoded data removed]",
      "text/plain": [
       "<Figure size 640x480 with 1 Axes>"
      ]
     },
     "metadata": {},
     "output_type": "display_data"
    }
   ],
   "source": [
    "import matplotlib.pyplot as plt\n",
    "\n",
    "plt.scatter(noon_y_test, noon_y_predict, alpha=0.7)\n",
    "plt.plot([noon_y_test.min(), noon_y_test.max()], [noon_y_test.min(), noon_y_test.max()], 'r--')\n",
    "plt.xlabel(\"Actual bus stop count\")\n",
    "plt.ylabel(\"Predicted bus stop count\")\n",
    "plt.title(\"Actual vs Predicted\")\n",
    "plt.grid(True)\n",
    "plt.show()\n"
   ]
  },
  {
   "cell_type": "code",
   "execution_count": 49,
   "metadata": {},
   "outputs": [
    {
     "data": {
      "image/png": "[encoded data removed]",
      "text/plain": [
       "<Figure size 640x480 with 1 Axes>"
      ]
     },
     "metadata": {},
     "output_type": "display_data"
    }
   ],
   "source": [
    "import seaborn as sns\n",
    "import pandas as pd\n",
    "\n",
    "residuals = noon_y_test - noon_y_predict\n",
    "sns.histplot(residuals, kde=True)\n",
    "plt.title(\"Distribution of Residuals\")\n",
    "plt.xlabel(\"Residual (Actual - Predicted)\")\n",
    "plt.axvline(0, color='red', linestyle='--')\n",
    "plt.show()\n"
   ]
  },
  {
   "cell_type": "code",
   "execution_count": 50,
   "metadata": {},
   "outputs": [
    {
     "name": "stdout",
     "output_type": "stream",
     "text": [
      "Mean residual: -7.926067769527435\n"
     ]
    }
   ],
   "source": [
    "print(\"Mean residual:\", residuals.mean())\n"
   ]
  },
  {
   "cell_type": "code",
   "execution_count": 51,
   "metadata": {},
   "outputs": [
    {
     "data": {
      "text/plain": [
       "<Axes: xlabel='time_slot_minutes'>"
      ]
     },
     "execution_count": 51,
     "metadata": {},
     "output_type": "execute_result"
    },
    {
     "data": {
      "image/png": "[encoded data removed]",
      "text/plain": [
       "<Figure size 640x480 with 1 Axes>"
      ]
     },
     "metadata": {},
     "output_type": "display_data"
    }
   ],
   "source": [
    "df_results = noon_X_test.copy()\n",
    "df_results[\"actual\"] = noon_y_test\n",
    "df_results[\"predicted\"] = noon_y_predict\n",
    "df_results[\"error\"] = df_results[\"actual\"] - df_results[\"predicted\"]\n",
    "\n",
    "# Example: error trend by time slot\n",
    "df_results.groupby(\"time_slot_minutes\")[\"error\"].mean().plot(kind='bar')\n"
   ]
  },
  {
   "cell_type": "code",
   "execution_count": 52,
   "metadata": {},
   "outputs": [],
   "source": [
    "time_slot_minutes =[725]\n",
    "day_encoded = [4]\n",
    "noon_new_data = pd.DataFrame({'time_slot_minutes': time_slot_minutes, 'day_encoded':day_encoded})\n",
    "noon_new_pred = noon_model.predict(noon_new_data)"
   ]
  },
  {
   "cell_type": "code",
   "execution_count": 53,
   "metadata": {},
   "outputs": [
    {
     "data": {
      "text/plain": [
       "array([47.031563], dtype=float32)"
      ]
     },
     "execution_count": 53,
     "metadata": {},
     "output_type": "execute_result"
    }
   ],
   "source": [
    "noon_new_pred"
   ]
  },
  {
   "cell_type": "markdown",
   "metadata": {},
   "source": [
    "## evening models"
   ]
  },
  {
   "cell_type": "code",
   "execution_count": 54,
   "metadata": {},
   "outputs": [],
   "source": [
    "evening_X = evening_data.drop(labels=['bus_stop_count'], axis=1)\n",
    "evening_y = evening_data['bus_stop_count']"
   ]
  },
  {
   "cell_type": "code",
   "execution_count": 55,
   "metadata": {},
   "outputs": [],
   "source": [
    "evening_X_train, evening_X_test, evening_y_train, evening_y_test = train_test_split(evening_X, evening_y, test_size=0.2, random_state=42)"
   ]
  },
  {
   "cell_type": "code",
   "execution_count": 56,
   "metadata": {},
   "outputs": [
    {
     "name": "stdout",
     "output_type": "stream",
     "text": [
      "RandomForestRegressor:\n",
      "\n",
      "mean absolute error = 127.34714285714286\n",
      "mean absolute percentage error = 1.0474798886456815\n",
      "mean squared error = 26162.06054285714\n",
      "root mean squared error = 161.74690273033713\n",
      "r2 score = 0.4786885458390405\n"
     ]
    }
   ],
   "source": [
    "evening_model = RandomForestRegressor(n_estimators=50)\n",
    "evening_model.fit(evening_X_train, evening_y_train)\n",
    "evening_y_predict = evening_model.predict(evening_X_test)\n",
    "print('RandomForestRegressor:\\n')\n",
    "print(f'mean absolute error = {mean_absolute_error(evening_y_test, evening_y_predict)}')\n",
    "print(f'mean absolute percentage error = {mean_absolute_percentage_error(evening_y_test, evening_y_predict)}')\n",
    "print(f'mean squared error = {mean_squared_error(evening_y_test, evening_y_predict)}')\n",
    "print(f'root mean squared error = {root_mean_squared_error(evening_y_test, evening_y_predict)}')\n",
    "print(f'r2 score = {r2_score(evening_y_test, evening_y_predict)}')"
   ]
  },
  {
   "cell_type": "code",
   "execution_count": 57,
   "metadata": {},
   "outputs": [
    {
     "name": "stdout",
     "output_type": "stream",
     "text": [
      "GradientBoostingRegressor:\n",
      "\n",
      "mean absolute error = 100.79604902595047\n",
      "mean absolute percentage error = 0.7991430180459252\n",
      "mean squared error = 22450.553929057212\n",
      "root mean squared error = 149.83508911152023\n",
      "r2 score = 0.5526449112712855\n"
     ]
    }
   ],
   "source": [
    "evening_model = GradientBoostingRegressor(n_estimators=300, learning_rate=0.3, max_depth=5, subsample=0.8)\n",
    "evening_model.fit(evening_X_train, evening_y_train)\n",
    "evening_y_predict = evening_model.predict(evening_X_test)\n",
    "print('GradientBoostingRegressor:\\n')\n",
    "print(f'mean absolute error = {mean_absolute_error(evening_y_test, evening_y_predict)}')\n",
    "print(f'mean absolute percentage error = {mean_absolute_percentage_error(evening_y_test, evening_y_predict)}')\n",
    "print(f'mean squared error = {mean_squared_error(evening_y_test, evening_y_predict)}')\n",
    "print(f'root mean squared error = {root_mean_squared_error(evening_y_test, evening_y_predict)}')\n",
    "print(f'r2 score = {r2_score(evening_y_test, evening_y_predict)}')"
   ]
  },
  {
   "cell_type": "code",
   "execution_count": 58,
   "metadata": {},
   "outputs": [
    {
     "name": "stdout",
     "output_type": "stream",
     "text": [
      "LinearRegression:\n",
      "\n",
      "mean absolute error = 198.39868092791366\n",
      "mean absolute percentage error = 2.8462109018609234\n",
      "mean squared error = 52179.47262086137\n",
      "root mean squared error = 228.42826580977533\n",
      "r2 score = -0.03974060853398398\n"
     ]
    }
   ],
   "source": [
    "evening_model = LinearRegression()\n",
    "evening_model.fit(evening_X_train, evening_y_train)\n",
    "evening_y_predict = evening_model.predict(evening_X_test)\n",
    "print('LinearRegression:\\n')\n",
    "print(f'mean absolute error = {mean_absolute_error(evening_y_test, evening_y_predict)}')\n",
    "print(f'mean absolute percentage error = {mean_absolute_percentage_error(evening_y_test, evening_y_predict)}')\n",
    "print(f'mean squared error = {mean_squared_error(evening_y_test, evening_y_predict)}')\n",
    "print(f'root mean squared error = {root_mean_squared_error(evening_y_test, evening_y_predict)}')\n",
    "print(f'r2 score = {r2_score(evening_y_test, evening_y_predict)}')"
   ]
  },
  {
   "cell_type": "code",
   "execution_count": 59,
   "metadata": {},
   "outputs": [
    {
     "name": "stdout",
     "output_type": "stream",
     "text": [
      "PoissonRegressor:\n",
      "\n",
      "mean absolute error = 199.38158109811096\n",
      "mean absolute percentage error = 2.8364972985840375\n",
      "mean squared error = 52272.003149355514\n",
      "root mean squared error = 228.6307134865207\n",
      "r2 score = -0.04158439389961077\n"
     ]
    }
   ],
   "source": [
    "evening_model = PoissonRegressor()\n",
    "evening_model.fit(evening_X_train, evening_y_train)\n",
    "evening_y_predict = evening_model.predict(evening_X_test)\n",
    "print('PoissonRegressor:\\n')\n",
    "print(f'mean absolute error = {mean_absolute_error(evening_y_test, evening_y_predict)}')\n",
    "print(f'mean absolute percentage error = {mean_absolute_percentage_error(evening_y_test, evening_y_predict)}')\n",
    "print(f'mean squared error = {mean_squared_error(evening_y_test, evening_y_predict)}')\n",
    "print(f'root mean squared error = {root_mean_squared_error(evening_y_test, evening_y_predict)}')\n",
    "print(f'r2 score = {r2_score(evening_y_test, evening_y_predict)}')"
   ]
  },
  {
   "cell_type": "code",
   "execution_count": 60,
   "metadata": {},
   "outputs": [
    {
     "name": "stdout",
     "output_type": "stream",
     "text": [
      "GaussianProcessRegressor:\n",
      "\n",
      "mean absolute error = 119.26289012419672\n",
      "mean absolute percentage error = 0.619560984150261\n",
      "mean squared error = 37861.2585750347\n",
      "root mean squared error = 194.5796972323544\n",
      "r2 score = 0.24556753732059367\n"
     ]
    }
   ],
   "source": [
    "evening_model = GaussianProcessRegressor(alpha=0.3)\n",
    "evening_model.fit(evening_X_train, evening_y_train)\n",
    "evening_y_predict = evening_model.predict(evening_X_test)\n",
    "print('GaussianProcessRegressor:\\n')\n",
    "print(f'mean absolute error = {mean_absolute_error(evening_y_test, evening_y_predict)}')\n",
    "print(f'mean absolute percentage error = {mean_absolute_percentage_error(evening_y_test, evening_y_predict)}')\n",
    "print(f'mean squared error = {mean_squared_error(evening_y_test, evening_y_predict)}')\n",
    "print(f'root mean squared error = {root_mean_squared_error(evening_y_test, evening_y_predict)}')\n",
    "print(f'r2 score = {r2_score(evening_y_test, evening_y_predict)}')"
   ]
  },
  {
   "cell_type": "code",
   "execution_count": 113,
   "metadata": {},
   "outputs": [
    {
     "name": "stdout",
     "output_type": "stream",
     "text": [
      "XGBRegressor:\n",
      "\n",
      "mean absolute error = 63.999114990234375\n",
      "mean absolute percentage error = 0.5602754950523376\n",
      "mean squared error = 7382.4619140625\n",
      "root mean squared error = 85.92125701904297\n",
      "r2 score = 0.8528953194618225\n"
     ]
    }
   ],
   "source": [
    "evening_model = xgb.XGBRegressor(random_state=42)\n",
    "evening_model.fit(evening_X_train, evening_y_train)\n",
    "evening_y_predict = evening_model.predict(evening_X_test)\n",
    "print('XGBRegressor:\\n')\n",
    "print(f'mean absolute error = {mean_absolute_error(evening_y_test, evening_y_predict)}')\n",
    "print(f'mean absolute percentage error = {mean_absolute_percentage_error(evening_y_test, evening_y_predict)}')\n",
    "print(f'mean squared error = {mean_squared_error(evening_y_test, evening_y_predict)}')\n",
    "print(f'root mean squared error = {root_mean_squared_error(evening_y_test, evening_y_predict)}')\n",
    "print(f'r2 score = {r2_score(evening_y_test, evening_y_predict)}')"
   ]
  },
  {
   "cell_type": "code",
   "execution_count": 114,
   "metadata": {},
   "outputs": [
    {
     "data": {
      "text/plain": [
       "<Axes: xlabel='time_slot_minutes'>"
      ]
     },
     "execution_count": 114,
     "metadata": {},
     "output_type": "execute_result"
    },
    {
     "data": {
      "image/png": "[encoded data removed]",
      "text/plain": [
       "<Figure size 640x480 with 1 Axes>"
      ]
     },
     "metadata": {},
     "output_type": "display_data"
    }
   ],
   "source": [
    "df_results = evening_X_test.copy()\n",
    "df_results[\"actual\"] = evening_y_test\n",
    "df_results[\"predicted\"] = evening_y_predict\n",
    "df_results[\"error\"] = df_results[\"actual\"] - df_results[\"predicted\"]\n",
    "\n",
    "# Example: error trend by time slot\n",
    "df_results.groupby(\"time_slot_minutes\")[\"error\"].mean().plot(kind='bar')"
   ]
  },
  {
   "cell_type": "code",
   "execution_count": 115,
   "metadata": {},
   "outputs": [
    {
     "name": "stdout",
     "output_type": "stream",
     "text": [
      "XGBRegressor:\n",
      "\n",
      "mean absolute error = 62.957275390625\n",
      "mean absolute percentage error = 0.5561138391494751\n",
      "mean squared error = 7170.91943359375\n",
      "root mean squared error = 84.68128204345703\n",
      "r2 score = 0.8571105599403381\n"
     ]
    }
   ],
   "source": [
    "evening_model = xgb.XGBRegressor(n_estimators=24)\n",
    "evening_model.fit(evening_X_train, evening_y_train)\n",
    "evening_y_predict = evening_model.predict(evening_X_test)\n",
    "print('XGBRegressor:\\n')\n",
    "print(f'mean absolute error = {mean_absolute_error(evening_y_test, evening_y_predict)}')\n",
    "print(f'mean absolute percentage error = {mean_absolute_percentage_error(evening_y_test, evening_y_predict)}')\n",
    "print(f'mean squared error = {mean_squared_error(evening_y_test, evening_y_predict)}')\n",
    "print(f'root mean squared error = {root_mean_squared_error(evening_y_test, evening_y_predict)}')\n",
    "print(f'r2 score = {r2_score(evening_y_test, evening_y_predict)}')"
   ]
  },
  {
   "cell_type": "code",
   "execution_count": 116,
   "metadata": {},
   "outputs": [
    {
     "data": {
      "text/plain": [
       "<Axes: xlabel='time_slot_minutes'>"
      ]
     },
     "execution_count": 116,
     "metadata": {},
     "output_type": "execute_result"
    },
    {
     "data": {
      "image/png": "[encoded data removed]",
      "text/plain": [
       "<Figure size 640x480 with 1 Axes>"
      ]
     },
     "metadata": {},
     "output_type": "display_data"
    }
   ],
   "source": [
    "df_results = evening_X_test.copy()\n",
    "df_results[\"actual\"] = evening_y_test\n",
    "df_results[\"predicted\"] = evening_y_predict\n",
    "df_results[\"error\"] = df_results[\"actual\"] - df_results[\"predicted\"]\n",
    "\n",
    "# Example: error trend by time slot\n",
    "df_results.groupby(\"time_slot_minutes\")[\"error\"].mean().plot(kind='bar')"
   ]
  },
  {
   "cell_type": "code",
   "execution_count": 63,
   "metadata": {},
   "outputs": [],
   "source": [
    "time_slot_minutes =[980]\n",
    "day_encoded = [4]\n",
    "evening_new_data = pd.DataFrame({'time_slot_minutes': time_slot_minutes, 'day_encoded':day_encoded})\n",
    "evening_new_pred = evening_model.predict(evening_new_data)"
   ]
  },
  {
   "cell_type": "code",
   "execution_count": 64,
   "metadata": {},
   "outputs": [
    {
     "data": {
      "text/plain": [
       "array([189.99895], dtype=float32)"
      ]
     },
     "execution_count": 64,
     "metadata": {},
     "output_type": "execute_result"
    }
   ],
   "source": [
    "evening_new_pred"
   ]
  },
  {
   "cell_type": "code",
   "execution_count": 65,
   "metadata": {},
   "outputs": [
    {
     "name": "stdout",
     "output_type": "stream",
     "text": [
      "XGBRegressor:\n",
      "\n",
      "mean absolute error = 86.80272674560547\n",
      "mean absolute percentage error = 1.365376353263855\n",
      "mean squared error = 16102.703125\n",
      "root mean squared error = 126.89642333984375\n",
      "r2 score = 0.6791337132453918\n"
     ]
    },
    {
     "data": {
      "text/plain": [
       "<Axes: title={'center': 'Feature importance'}, xlabel='Importance score', ylabel='Features'>"
      ]
     },
     "execution_count": 65,
     "metadata": {},
     "output_type": "execute_result"
    },
    {
     "data": {
      "image/png": "[encoded data removed]",
      "text/plain": [
       "<Figure size 640x480 with 1 Axes>"
      ]
     },
     "metadata": {},
     "output_type": "display_data"
    }
   ],
   "source": [
    "evening_model = xgb.XGBRegressor(\n",
    "    n_estimators=50,\n",
    "    learning_rate=0.5,\n",
    "    max_depth=60,\n",
    "    subsample=0.9,\n",
    "    colsample_bytree=0.8,\n",
    "    reg_alpha=0.3,\n",
    "    reg_lambda=1.0\n",
    ")\n",
    "evening_model.fit(evening_X_train, evening_y_train)\n",
    "evening_y_predict = evening_model.predict(evening_X_test)\n",
    "print('XGBRegressor:\\n')\n",
    "print(f'mean absolute error = {mean_absolute_error(evening_y_test, evening_y_predict)}')\n",
    "print(f'mean absolute percentage error = {mean_absolute_percentage_error(evening_y_test, evening_y_predict)}')\n",
    "print(f'mean squared error = {mean_squared_error(evening_y_test, evening_y_predict)}')\n",
    "print(f'root mean squared error = {root_mean_squared_error(evening_y_test, evening_y_predict)}')\n",
    "print(f'r2 score = {r2_score(evening_y_test, evening_y_predict)}')\n",
    "from xgboost import plot_importance\n",
    "plot_importance(evening_model)\n"
   ]
  },
  {
   "cell_type": "code",
   "execution_count": 66,
   "metadata": {},
   "outputs": [
    {
     "data": {
      "image/png": "[encoded data removed]",
      "text/plain": [
       "<Figure size 640x480 with 1 Axes>"
      ]
     },
     "metadata": {},
     "output_type": "display_data"
    }
   ],
   "source": [
    "import matplotlib.pyplot as plt\n",
    "\n",
    "plt.scatter(evening_y_test, evening_y_predict, alpha=0.7)\n",
    "plt.plot([evening_y_test.min(), evening_y_test.max()], [evening_y_test.min(), evening_y_test.max()], 'r--')\n",
    "plt.xlabel(\"Actual bus stop count\")\n",
    "plt.ylabel(\"Predicted bus stop count\")\n",
    "plt.title(\"Actual vs Predicted\")\n",
    "plt.grid(True)\n",
    "plt.show()\n"
   ]
  },
  {
   "cell_type": "code",
   "execution_count": 67,
   "metadata": {},
   "outputs": [
    {
     "data": {
      "image/png": "[encoded data removed]",
      "text/plain": [
       "<Figure size 640x480 with 1 Axes>"
      ]
     },
     "metadata": {},
     "output_type": "display_data"
    }
   ],
   "source": [
    "import seaborn as sns\n",
    "import pandas as pd\n",
    "\n",
    "residuals = evening_y_test - evening_y_predict\n",
    "sns.histplot(residuals, kde=True)\n",
    "plt.title(\"Distribution of Residuals\")\n",
    "plt.xlabel(\"Residual (Actual - Predicted)\")\n",
    "plt.axvline(0, color='red', linestyle='--')\n",
    "plt.show()\n"
   ]
  },
  {
   "cell_type": "code",
   "execution_count": 68,
   "metadata": {},
   "outputs": [
    {
     "name": "stdout",
     "output_type": "stream",
     "text": [
      "Mean residual: -8.672978264944893\n"
     ]
    }
   ],
   "source": [
    "print(\"Mean residual:\", residuals.mean())\n"
   ]
  },
  {
   "cell_type": "code",
   "execution_count": 69,
   "metadata": {},
   "outputs": [
    {
     "data": {
      "text/plain": [
       "<Axes: xlabel='time_slot_minutes'>"
      ]
     },
     "execution_count": 69,
     "metadata": {},
     "output_type": "execute_result"
    },
    {
     "data": {
      "image/png": "[encoded data removed]",
      "text/plain": [
       "<Figure size 640x480 with 1 Axes>"
      ]
     },
     "metadata": {},
     "output_type": "display_data"
    }
   ],
   "source": [
    "df_results = evening_X_test.copy()\n",
    "df_results[\"actual\"] = evening_y_test\n",
    "df_results[\"predicted\"] = evening_y_predict\n",
    "df_results[\"error\"] = df_results[\"actual\"] - df_results[\"predicted\"]\n",
    "\n",
    "# Example: error trend by time slot\n",
    "df_results.groupby(\"time_slot_minutes\")[\"error\"].mean().plot(kind='bar')\n"
   ]
  },
  {
   "cell_type": "code",
   "execution_count": 70,
   "metadata": {},
   "outputs": [],
   "source": [
    "time_slot_minutes =[980]\n",
    "day_encoded = [4]\n",
    "evening_new_data = pd.DataFrame({'time_slot_minutes': time_slot_minutes, 'day_encoded':day_encoded})\n",
    "evening_new_pred = evening_model.predict(evening_new_data)"
   ]
  },
  {
   "cell_type": "code",
   "execution_count": 71,
   "metadata": {},
   "outputs": [
    {
     "data": {
      "text/plain": [
       "array([249.55632], dtype=float32)"
      ]
     },
     "execution_count": 71,
     "metadata": {},
     "output_type": "execute_result"
    }
   ],
   "source": [
    "evening_new_pred"
   ]
  },
  {
   "cell_type": "code",
   "execution_count": null,
   "metadata": {},
   "outputs": [],
   "source": []
  }
 ],
 "metadata": {
  "kernelspec": {
   "display_name": "senior",
   "language": "python",
   "name": "python3"
  },
  "language_info": {
   "codemirror_mode": {
    "name": "ipython",
    "version": 3
   },
   "file_extension": ".py",
   "mimetype": "text/x-python",
   "name": "python",
   "nbconvert_exporter": "python",
   "pygments_lexer": "ipython3",
   "version": "3.12.9"
  }
 },
 "nbformat": 4,
 "nbformat_minor": 2
}
