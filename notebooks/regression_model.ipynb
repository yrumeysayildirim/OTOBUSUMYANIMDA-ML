{
 "cells": [
  {
   "cell_type": "markdown",
   "metadata": {},
   "source": [
    "# REGRESSION  MODEL"
   ]
  },
  {
   "cell_type": "markdown",
   "metadata": {},
   "source": [
    "ive been thinking, the y target is the density but we dont have real bus_stop_count in production, so we wont be able to predict density with the classification model since an entire feature is missing. which means we will need another model to predict the amount of students at the bus stop based on the class data. i built the time series model but the results were very bad:\n",
    "\n",
    "\n",
    "    New MAE: 133.22 (Previously 136.78)\n",
    "\n",
    "    New RMSE: 161.54 (Previously 164.93)\n",
    "\n",
    "Interpretation of the Change:\n",
    "\n",
    "    Slight Improvement: Both the MAE and RMSE have decreased slightly. This indicates that the data cleaning steps you performed have led to a marginal improvement in the model's predictive accuracy on the test set. The model's average error (MAE) is now about 133 units, and the error metric that penalizes larger errors more (RMSE) is about 162 units.\n",
    "\n",
    "    Magnitude: The reduction in error is relatively small (MAE decreased by ~3.5 points, RMSE by ~3.4 points).\n",
    "\n",
    "    Visuals Likely Similar: Given the small change in metrics, the visual plot of the forecast vs. actuals on the test set probably looks very similar to the previous one you shared. The fundamental characteristics likely remain:\n",
    "\n",
    "        The model probably still captures the general trend.\n",
    "\n",
    "        It likely still smooths over the short-term volatility.\n",
    "\n",
    "        Most actual points probably still fall within the uncertainty interval, but the most extreme peaks/dips might still be missed or lie near the boundary.\n",
    "\n",
    "Conclusion:\n",
    "\n",
    "Your data cleaning efforts were beneficial, resulting in a slightly more accurate forecast according to the test set metrics. However, the improvement is minor, suggesting that the core challenges in predicting this time series (likely the volatility and sharp peaks/dips within the daily pattern) weren't fully addressed by the cleaning alone.\n",
    "\n",
    "If this level of accuracy is still not sufficient, the next steps would likely involve:\n",
    "\n",
    "    Prophet Parameter Tuning: Adjusting parameters like changepoint_prior_scale, seasonality_prior_scale, or seasonality_mode.\n",
    "\n",
    "    Adding Regressors: If external factors influence the y value, adding them as regressors could significantly improve the forecast.\n",
    "\n",
    "    Considering Alternative Models: If Prophet continues to struggle with the volatility, exploring other time series models (like ARIMA, Exponential Smoothing, or even machine learning models like LSTMs if you have enough data) might be worthwhile.\n",
    "\n",
    "so im thinking about using a regression model or something similar to predict the student numbers, what do you think?"
   ]
  },
  {
   "cell_type": "markdown",
   "metadata": {},
   "source": [
    "You're thinking in exactly the right direction. Let's break this down together and carve a clear path forward:\n",
    "\n",
    "---\n",
    "\n",
    "### 🔍 **Problem Summary**\n",
    "\n",
    "You're currently:\n",
    "\n",
    "- **Classifying `density`** levels using features like `bus_stop_count` – works *great*, but you **won’t have `bus_stop_count` in production**.\n",
    "- You **tried time series forecasting (Prophet)** to predict `bus_stop_count`, but it's struggling with sharp peaks/volatility.\n",
    "- You're now thinking of **using a regression model** to predict `bus_stop_count` from *known scheduling data*, instead of time series.\n",
    "\n",
    "---\n",
    "\n",
    "### ✅ **Yes – Regression Makes Sense**\n",
    "\n",
    "This is a smart move for your case. Why?\n",
    "\n",
    "- You already have features like:\n",
    "  - `day_encoded`\n",
    "  - `time_slot_minutes`\n",
    "  - Possibly class-specific features (like number of classes scheduled, break durations, etc.)\n",
    "- These **don't rely on historical `bus_stop_count`**, which is what you want in a real-time scenario.\n",
    "- You don’t need temporal continuity for regression to work well – **just a strong mapping from features → `bus_stop_count`**.\n",
    "\n",
    "---\n",
    "\n",
    "### 🔮 Regression Pipeline Idea\n",
    "\n",
    "1. **Input Features** (features you can generate in real-time):\n",
    "   - `day_encoded`\n",
    "   - `time_slot_minutes`\n",
    "   - `num_classes_starting`\n",
    "   - `num_classes_ending`\n",
    "   - Maybe location or faculty if available?\n",
    "\n",
    "2. **Target**:\n",
    "   - `bus_stop_count` (continuous – so it’s a regression task)\n",
    "\n",
    "3. **Model Options**:\n",
    "   - Start simple: `LinearRegression`, `RandomForestRegressor`\n",
    "   - Then try: `GradientBoostingRegressor`, `XGBoost`, `CatBoost`\n",
    "   - If your data volume is large, maybe even a neural net (like a small MLP)\n",
    "\n",
    "---\n",
    "\n",
    "### 🧠 And Then...\n",
    "\n",
    "- **Feed the output of the regression model (predicted `bus_stop_count`)** into your classification model to get `density`.\n",
    "- This allows your **classification model to stay intact** — just shift where the `bus_stop_count` comes from.\n",
    "\n",
    "---\n",
    "\n",
    "### 📦 Bonus: Hybrid Model Workflow\n",
    "\n",
    "```mermaid\n",
    "graph TD;\n",
    "    A[Real-time schedule info] --> B[Regression Model: Predict bus_stop_count]\n",
    "    B --> C[Classification Model: Predict density]\n",
    "    C --> D[Send prediction to web app or dashboard]\n",
    "```\n",
    "\n",
    "---\n",
    "\n",
    "### 🧪 Next Steps\n",
    "\n",
    "1. Train a regression model (Random Forest is a good baseline) on your cleaned dataset.\n",
    "2. Check metrics: MAE, RMSE – but also scatter plot predicted vs. actual.\n",
    "3. If that performs better than Prophet (which seems likely in this case), **drop Prophet from the stack** and keep this regression model as the main feeder into your classifier.\n",
    "\n",
    "---\n",
    "\n",
    "Let me know if you want help building or testing the regression model — I can walk you through it or generate the code."
   ]
  },
  {
   "cell_type": "markdown",
   "metadata": {},
   "source": [
    "which do you think is better, making a regression model or taking the current time converting it into mins from midnight and then taking it directly from the dataset we used to train the classification model? "
   ]
  },
  {
   "cell_type": "markdown",
   "metadata": {},
   "source": [
    "This is a *really good* question — it boils down to **predictive flexibility vs. simplicity**.\n",
    "\n",
    "Let’s compare the two clearly:\n",
    "\n",
    "---\n",
    "\n",
    "## 🔁 **Option 1: Regression Model (Predict `bus_stop_count`)**\n",
    "\n",
    "### ✅ Pros:\n",
    "- **Generalizable**: Predicts bus stop count for *any* time input, even unseen combinations of day + time.\n",
    "- **No need for exact matches** in your dataset (i.e., it's not just a lookup).\n",
    "- Can incorporate **more features** (class load, weather, event days, etc.) to improve accuracy later.\n",
    "- Works better in **real-time systems**, especially with slight delays or asynchronous queries.\n",
    "\n",
    "### ❌ Cons:\n",
    "- Needs training and tuning.\n",
    "- Might slightly mispredict (depends on model quality).\n",
    "- Adds more complexity.\n",
    "\n",
    "---\n",
    "\n",
    "## 🕐 **Option 2: Time Lookup (Use `time_slot_minutes` + `day` to get existing bus_stop_count)**\n",
    "\n",
    "### ✅ Pros:\n",
    "- **Super simple**: It’s just a lookup.\n",
    "- **100% accurate** — if that time and day exist in the dataset.\n",
    "- No model training or risk of error.\n",
    "\n",
    "### ❌ Cons:\n",
    "- **Not flexible**:\n",
    "  - If the time isn’t in the dataset (e.g., you query at 10:03 but only have 10:00 and 10:05), you get nothing unless you interpolate.\n",
    "- **Can’t generalize** to new days/times/schedule changes.\n",
    "- Doesn’t improve with more data (it’s static).\n",
    "\n",
    "---\n",
    "\n",
    "## 🧠 TL;DR — Which is Better?\n",
    "\n",
    "| Use Case | Best Option |\n",
    "|----------|-------------|\n",
    "| You need real-time predictions that are robust to missing time slots or future scheduling changes | ✅ **Regression** |\n",
    "| You only need predictions for known, fixed time slots (like a dashboard that runs on a strict schedule) | ✅ **Lookup** |\n",
    "\n",
    "---\n",
    "\n",
    "### 🔧 Pro Tip: Combine Both (Fallback Plan)\n",
    "Use the **lookup approach as a first try**, and if the exact time isn’t found, **fallback to the regression model**.\n",
    "\n",
    "```python\n",
    "def get_bus_stop_count(day, time_minutes, data, regression_model=None, fallback=True):\n",
    "    match = data[(data['day'] == day) & (data['time_slot_minutes'] == time_minutes)]\n",
    "    if not match.empty:\n",
    "        return match.iloc[0]['bus_stop_count']\n",
    "    elif fallback and regression_model:\n",
    "        # Assume day is already encoded\n",
    "        return regression_model.predict([[day_encoded, time_minutes]])[0]\n",
    "    else:\n",
    "        return None\n",
    "```\n",
    "\n",
    "---\n",
    "\n",
    "Would you like help building that fallback logic or comparing both approaches in practice with your data?"
   ]
  },
  {
   "cell_type": "code",
   "execution_count": 1,
   "metadata": {},
   "outputs": [],
   "source": [
    "import pandas as pd\n",
    "import sqlite3\n",
    "from data_collections.constants import SQLITE_DATABASE_MODEL"
   ]
  },
  {
   "cell_type": "code",
   "execution_count": 2,
   "metadata": {},
   "outputs": [],
   "source": [
    "TABLE_NAME = \"course_info\" "
   ]
  },
  {
   "cell_type": "code",
   "execution_count": 3,
   "metadata": {},
   "outputs": [],
   "source": [
    "connection = sqlite3.connect(SQLITE_DATABASE_MODEL)\n",
    "c = connection.cursor()"
   ]
  },
  {
   "cell_type": "code",
   "execution_count": 4,
   "metadata": {},
   "outputs": [],
   "source": [
    "obs_data = pd.read_sql_query(f'SELECT * FROM {TABLE_NAME}', connection)"
   ]
  },
  {
   "cell_type": "code",
   "execution_count": 5,
   "metadata": {},
   "outputs": [],
   "source": [
    "data = obs_data.copy()"
   ]
  },
  {
   "cell_type": "markdown",
   "metadata": {},
   "source": [
    "## skip all above"
   ]
  },
  {
   "cell_type": "code",
   "execution_count": 6,
   "metadata": {},
   "outputs": [],
   "source": [
    "data = pd.read_csv('class_model.csv')"
   ]
  },
  {
   "cell_type": "code",
   "execution_count": 7,
   "metadata": {},
   "outputs": [
    {
     "data": {
      "text/html": [
       "<div>\n",
       "<style scoped>\n",
       "    .dataframe tbody tr th:only-of-type {\n",
       "        vertical-align: middle;\n",
       "    }\n",
       "\n",
       "    .dataframe tbody tr th {\n",
       "        vertical-align: top;\n",
       "    }\n",
       "\n",
       "    .dataframe thead th {\n",
       "        text-align: right;\n",
       "    }\n",
       "</style>\n",
       "<table border=\"1\" class=\"dataframe\">\n",
       "  <thead>\n",
       "    <tr style=\"text-align: right;\">\n",
       "      <th></th>\n",
       "      <th>faculty_code</th>\n",
       "      <th>faculty</th>\n",
       "      <th>course_code</th>\n",
       "      <th>course_name</th>\n",
       "      <th>class</th>\n",
       "      <th>teacher</th>\n",
       "      <th>year</th>\n",
       "      <th>day</th>\n",
       "      <th>start_time</th>\n",
       "      <th>end_time</th>\n",
       "      <th>student_nums</th>\n",
       "    </tr>\n",
       "  </thead>\n",
       "  <tbody>\n",
       "    <tr>\n",
       "      <th>0</th>\n",
       "      <td>GÖRSEL İLETİŞİM TASARIMI_GSF102</td>\n",
       "      <td>GÖRSEL İLETİŞİM TASARIMI</td>\n",
       "      <td>GSF102</td>\n",
       "      <td>TEMEL TASARIM II</td>\n",
       "      <td>L-102(GİT ATÖLYE II)[60]</td>\n",
       "      <td>SEÇİL KARTOPU</td>\n",
       "      <td>1</td>\n",
       "      <td>Pazartesi</td>\n",
       "      <td>09:00</td>\n",
       "      <td>14:50</td>\n",
       "      <td>41</td>\n",
       "    </tr>\n",
       "    <tr>\n",
       "      <th>1</th>\n",
       "      <td>GÖRSEL İLETİŞİM TASARIMI_GSF106</td>\n",
       "      <td>GÖRSEL İLETİŞİM TASARIMI</td>\n",
       "      <td>GSF106</td>\n",
       "      <td>ÇİZİM II</td>\n",
       "      <td>L-101(GİT ATÖLYE I)[60]</td>\n",
       "      <td>Öğr.Gör. İSMAİL FURKAN YAVUZ</td>\n",
       "      <td>1</td>\n",
       "      <td>Pazartesi</td>\n",
       "      <td>09:00</td>\n",
       "      <td>14:50</td>\n",
       "      <td>44</td>\n",
       "    </tr>\n",
       "    <tr>\n",
       "      <th>2</th>\n",
       "      <td>GÖRSEL İLETİŞİM TASARIMI_BLG102</td>\n",
       "      <td>GÖRSEL İLETİŞİM TASARIMI</td>\n",
       "      <td>BLG102</td>\n",
       "      <td>BİLGİ TEKNOLOJİLERİ KULLANIMI</td>\n",
       "      <td>AZ 13(BİLGİSAYAR LAB.)[80]</td>\n",
       "      <td>Öğr.Gör. AHMET AKSOY</td>\n",
       "      <td>1</td>\n",
       "      <td>Salı</td>\n",
       "      <td>09:00</td>\n",
       "      <td>15:20</td>\n",
       "      <td>44</td>\n",
       "    </tr>\n",
       "    <tr>\n",
       "      <th>3</th>\n",
       "      <td>İKTİSAT_ENG104</td>\n",
       "      <td>İKTİSAT</td>\n",
       "      <td>ENG104</td>\n",
       "      <td>ACADEMIC ENGLISH II</td>\n",
       "      <td>B382(KONFERANS SALONU)[143]</td>\n",
       "      <td>Öğr.Gör. MÜGE AKGEDİK AKOĞLANOĞLU</td>\n",
       "      <td>1</td>\n",
       "      <td>Pazartesi</td>\n",
       "      <td>09:00</td>\n",
       "      <td>16:20</td>\n",
       "      <td>35</td>\n",
       "    </tr>\n",
       "    <tr>\n",
       "      <th>4</th>\n",
       "      <td>İKTİSAT_ECON102</td>\n",
       "      <td>İKTİSAT</td>\n",
       "      <td>ECON102</td>\n",
       "      <td>INTRODUCTION TO ECONOMICS II</td>\n",
       "      <td>B338-D1(DERSLİK1)[121]</td>\n",
       "      <td>KORAY GÖKSAL</td>\n",
       "      <td>1</td>\n",
       "      <td>Pazartesi</td>\n",
       "      <td>14:00</td>\n",
       "      <td>16:20</td>\n",
       "      <td>91</td>\n",
       "    </tr>\n",
       "  </tbody>\n",
       "</table>\n",
       "</div>"
      ],
      "text/plain": [
       "                      faculty_code                   faculty course_code  \\\n",
       "0  GÖRSEL İLETİŞİM TASARIMI_GSF102  GÖRSEL İLETİŞİM TASARIMI      GSF102   \n",
       "1  GÖRSEL İLETİŞİM TASARIMI_GSF106  GÖRSEL İLETİŞİM TASARIMI      GSF106   \n",
       "2  GÖRSEL İLETİŞİM TASARIMI_BLG102  GÖRSEL İLETİŞİM TASARIMI      BLG102   \n",
       "3                   İKTİSAT_ENG104                   İKTİSAT      ENG104   \n",
       "4                  İKTİSAT_ECON102                   İKTİSAT     ECON102   \n",
       "\n",
       "                     course_name                        class  \\\n",
       "0               TEMEL TASARIM II     L-102(GİT ATÖLYE II)[60]   \n",
       "1                       ÇİZİM II      L-101(GİT ATÖLYE I)[60]   \n",
       "2  BİLGİ TEKNOLOJİLERİ KULLANIMI   AZ 13(BİLGİSAYAR LAB.)[80]   \n",
       "3            ACADEMIC ENGLISH II  B382(KONFERANS SALONU)[143]   \n",
       "4   INTRODUCTION TO ECONOMICS II       B338-D1(DERSLİK1)[121]   \n",
       "\n",
       "                             teacher  year        day start_time end_time  \\\n",
       "0                      SEÇİL KARTOPU     1  Pazartesi      09:00    14:50   \n",
       "1       Öğr.Gör. İSMAİL FURKAN YAVUZ     1  Pazartesi      09:00    14:50   \n",
       "2               Öğr.Gör. AHMET AKSOY     1       Salı      09:00    15:20   \n",
       "3  Öğr.Gör. MÜGE AKGEDİK AKOĞLANOĞLU     1  Pazartesi      09:00    16:20   \n",
       "4                       KORAY GÖKSAL     1  Pazartesi      14:00    16:20   \n",
       "\n",
       "   student_nums  \n",
       "0            41  \n",
       "1            44  \n",
       "2            44  \n",
       "3            35  \n",
       "4            91  "
      ]
     },
     "execution_count": 7,
     "metadata": {},
     "output_type": "execute_result"
    }
   ],
   "source": [
    "data.head()"
   ]
  },
  {
   "cell_type": "code",
   "execution_count": 8,
   "metadata": {},
   "outputs": [
    {
     "name": "stdout",
     "output_type": "stream",
     "text": [
      "there are 11 columns and 572 rows\n"
     ]
    }
   ],
   "source": [
    "print(f'there are {len(data.columns)} columns and {len(data)} rows')"
   ]
  },
  {
   "cell_type": "markdown",
   "metadata": {},
   "source": [
    "### STEP 1: structure the data for the model"
   ]
  },
  {
   "cell_type": "code",
   "execution_count": 9,
   "metadata": {},
   "outputs": [
    {
     "name": "stdout",
     "output_type": "stream",
     "text": [
      "Index(['faculty_code', 'faculty', 'course_code', 'course_name', 'class',\n",
      "       'teacher', 'year', 'day', 'start_time', 'end_time', 'student_nums'],\n",
      "      dtype='object')\n"
     ]
    }
   ],
   "source": [
    "# list all the columns to drop\n",
    "\n",
    "print(data.columns)"
   ]
  },
  {
   "cell_type": "code",
   "execution_count": 10,
   "metadata": {},
   "outputs": [],
   "source": [
    "to_drop = ['faculty_code', 'faculty', 'course_name', 'class', 'year', 'start_time']"
   ]
  },
  {
   "cell_type": "code",
   "execution_count": 11,
   "metadata": {},
   "outputs": [],
   "source": [
    "data.drop(labels=to_drop,axis=1, inplace=True)"
   ]
  },
  {
   "cell_type": "code",
   "execution_count": 12,
   "metadata": {},
   "outputs": [
    {
     "name": "stdout",
     "output_type": "stream",
     "text": [
      "<class 'pandas.core.frame.DataFrame'>\n"
     ]
    }
   ],
   "source": [
    "print(type(data))"
   ]
  },
  {
   "cell_type": "code",
   "execution_count": 13,
   "metadata": {},
   "outputs": [],
   "source": [
    "import pandas as pd\n",
    "from datetime import datetime, timedelta\n",
    "\n",
    "def calculate_bus_stop_counts(df):\n",
    "    \"\"\"\n",
    "    Takes a class schedule DataFrame and returns a new DataFrame with time slots and bus_stop_count.\n",
    "    Works using minutes-from-midnight as time representation.\n",
    "    \n",
    "    Required columns in df:\n",
    "    - 'day' (e.g., Monday)\n",
    "    - 'end_time' (string in 'HH:MM' format)\n",
    "    - 'student_nums' (integer)\n",
    "    \"\"\"\n",
    "    \n",
    "    # Convert end_time to datetime for parsing, then extract minutes-from-midnight\n",
    "    df['end_time'] = pd.to_datetime(df['end_time'], format='%H:%M')\n",
    "    df['end_time_minutes'] = df['end_time'].dt.hour * 60 + df['end_time'].dt.minute\n",
    "    \n",
    "    time_slots = []\n",
    "\n",
    "    for _, row in df.iterrows():\n",
    "        end_time_min = row['end_time_minutes']\n",
    "        student_count = row['student_nums']\n",
    "        day = row['day']\n",
    "        \n",
    "        # Define departure distribution\n",
    "        departures = [\n",
    "            (0, 0.20),  # 0-5 minutes\n",
    "            (5, 0.50),  # 5-10 minutes\n",
    "            (10, 0.30)  # 10-15 minutes\n",
    "        ]\n",
    "\n",
    "        for offset, fraction in departures:\n",
    "            slot_min = end_time_min + offset  # Still in minutes-from-midnight\n",
    "            time_slots.append({\n",
    "                'day': day,\n",
    "                'time_slot_minutes': slot_min,\n",
    "                'bus_stop_count': int(student_count * fraction)\n",
    "            })\n",
    "\n",
    "    # Create DataFrame from list of time slots\n",
    "    result_df = pd.DataFrame(time_slots)\n",
    "\n",
    "    # Group by day and time slot to sum overlapping students\n",
    "    result_df = result_df.groupby(['day', 'time_slot_minutes'], as_index=False).sum()\n",
    "    #result_df['time_slot'] = result_df['time_slot_minutes'].apply(lambda x: f\"{x // 60:02}:{x % 60:02}\")\n",
    "\n",
    "\n",
    "    return result_df\n"
   ]
  },
  {
   "cell_type": "code",
   "execution_count": 14,
   "metadata": {},
   "outputs": [
    {
     "name": "stdout",
     "output_type": "stream",
     "text": [
      "          day  time_slot_minutes  bus_stop_count\n",
      "0        Cuma                650              30\n",
      "1        Cuma                655              78\n",
      "2        Cuma                660              46\n",
      "3        Cuma                710              91\n",
      "4        Cuma                715             232\n",
      "..        ...                ...             ...\n",
      "145  Çarşamba                985             488\n",
      "146  Çarşamba                990             288\n",
      "147  Çarşamba               1070              25\n",
      "148  Çarşamba               1075              63\n",
      "149  Çarşamba               1080              37\n",
      "\n",
      "[150 rows x 3 columns]\n"
     ]
    }
   ],
   "source": [
    "data = calculate_bus_stop_counts(data)\n",
    "print(data)"
   ]
  },
  {
   "cell_type": "markdown",
   "metadata": {},
   "source": [
    "next encoding"
   ]
  },
  {
   "cell_type": "code",
   "execution_count": 15,
   "metadata": {},
   "outputs": [],
   "source": [
    "from sklearn.preprocessing import OneHotEncoder, LabelEncoder\n"
   ]
  },
  {
   "cell_type": "markdown",
   "metadata": {},
   "source": [
    "# one hot encoding for the days column\n",
    "## we commented it out because the randomforestclassifier does not need one hot encoding"
   ]
  },
  {
   "cell_type": "code",
   "execution_count": 16,
   "metadata": {},
   "outputs": [
    {
     "data": {
      "text/plain": [
       "\"\\ndays = pd.get_dummies(data['day'], prefix='day')\\nnew_drop = ['day']\\ndata.drop(labels=new_drop, axis=1, inplace=True)\\n_d = days.apply(le.fit_transform)\\ndata = data.join(_d)\\n\""
      ]
     },
     "execution_count": 16,
     "metadata": {},
     "output_type": "execute_result"
    }
   ],
   "source": [
    "\"\"\"\n",
    "days = pd.get_dummies(data['day'], prefix='day')\n",
    "new_drop = ['day']\n",
    "data.drop(labels=new_drop, axis=1, inplace=True)\n",
    "_d = days.apply(le.fit_transform)\n",
    "data = data.join(_d)\n",
    "\"\"\""
   ]
  },
  {
   "cell_type": "code",
   "execution_count": 17,
   "metadata": {},
   "outputs": [
    {
     "data": {
      "text/html": [
       "<div>\n",
       "<style scoped>\n",
       "    .dataframe tbody tr th:only-of-type {\n",
       "        vertical-align: middle;\n",
       "    }\n",
       "\n",
       "    .dataframe tbody tr th {\n",
       "        vertical-align: top;\n",
       "    }\n",
       "\n",
       "    .dataframe thead th {\n",
       "        text-align: right;\n",
       "    }\n",
       "</style>\n",
       "<table border=\"1\" class=\"dataframe\">\n",
       "  <thead>\n",
       "    <tr style=\"text-align: right;\">\n",
       "      <th></th>\n",
       "      <th>day</th>\n",
       "      <th>time_slot_minutes</th>\n",
       "      <th>bus_stop_count</th>\n",
       "    </tr>\n",
       "  </thead>\n",
       "  <tbody>\n",
       "    <tr>\n",
       "      <th>0</th>\n",
       "      <td>Cuma</td>\n",
       "      <td>650</td>\n",
       "      <td>30</td>\n",
       "    </tr>\n",
       "    <tr>\n",
       "      <th>1</th>\n",
       "      <td>Cuma</td>\n",
       "      <td>655</td>\n",
       "      <td>78</td>\n",
       "    </tr>\n",
       "    <tr>\n",
       "      <th>2</th>\n",
       "      <td>Cuma</td>\n",
       "      <td>660</td>\n",
       "      <td>46</td>\n",
       "    </tr>\n",
       "    <tr>\n",
       "      <th>3</th>\n",
       "      <td>Cuma</td>\n",
       "      <td>710</td>\n",
       "      <td>91</td>\n",
       "    </tr>\n",
       "    <tr>\n",
       "      <th>4</th>\n",
       "      <td>Cuma</td>\n",
       "      <td>715</td>\n",
       "      <td>232</td>\n",
       "    </tr>\n",
       "    <tr>\n",
       "      <th>...</th>\n",
       "      <td>...</td>\n",
       "      <td>...</td>\n",
       "      <td>...</td>\n",
       "    </tr>\n",
       "    <tr>\n",
       "      <th>145</th>\n",
       "      <td>Çarşamba</td>\n",
       "      <td>985</td>\n",
       "      <td>488</td>\n",
       "    </tr>\n",
       "    <tr>\n",
       "      <th>146</th>\n",
       "      <td>Çarşamba</td>\n",
       "      <td>990</td>\n",
       "      <td>288</td>\n",
       "    </tr>\n",
       "    <tr>\n",
       "      <th>147</th>\n",
       "      <td>Çarşamba</td>\n",
       "      <td>1070</td>\n",
       "      <td>25</td>\n",
       "    </tr>\n",
       "    <tr>\n",
       "      <th>148</th>\n",
       "      <td>Çarşamba</td>\n",
       "      <td>1075</td>\n",
       "      <td>63</td>\n",
       "    </tr>\n",
       "    <tr>\n",
       "      <th>149</th>\n",
       "      <td>Çarşamba</td>\n",
       "      <td>1080</td>\n",
       "      <td>37</td>\n",
       "    </tr>\n",
       "  </tbody>\n",
       "</table>\n",
       "<p>150 rows × 3 columns</p>\n",
       "</div>"
      ],
      "text/plain": [
       "          day  time_slot_minutes  bus_stop_count\n",
       "0        Cuma                650              30\n",
       "1        Cuma                655              78\n",
       "2        Cuma                660              46\n",
       "3        Cuma                710              91\n",
       "4        Cuma                715             232\n",
       "..        ...                ...             ...\n",
       "145  Çarşamba                985             488\n",
       "146  Çarşamba                990             288\n",
       "147  Çarşamba               1070              25\n",
       "148  Çarşamba               1075              63\n",
       "149  Çarşamba               1080              37\n",
       "\n",
       "[150 rows x 3 columns]"
      ]
     },
     "execution_count": 17,
     "metadata": {},
     "output_type": "execute_result"
    }
   ],
   "source": [
    "data"
   ]
  },
  {
   "cell_type": "code",
   "execution_count": 18,
   "metadata": {},
   "outputs": [],
   "source": [
    "data.to_csv('day_time_stop.csv')"
   ]
  },
  {
   "cell_type": "code",
   "execution_count": 19,
   "metadata": {},
   "outputs": [],
   "source": [
    "le = LabelEncoder()"
   ]
  },
  {
   "cell_type": "code",
   "execution_count": 20,
   "metadata": {},
   "outputs": [],
   "source": [
    "data['day_encoded'] = le.fit_transform(data['day'])"
   ]
  },
  {
   "cell_type": "code",
   "execution_count": 21,
   "metadata": {},
   "outputs": [],
   "source": [
    "data = data.drop(columns=['day'])\n"
   ]
  },
  {
   "cell_type": "code",
   "execution_count": 22,
   "metadata": {},
   "outputs": [
    {
     "data": {
      "text/html": [
       "<div>\n",
       "<style scoped>\n",
       "    .dataframe tbody tr th:only-of-type {\n",
       "        vertical-align: middle;\n",
       "    }\n",
       "\n",
       "    .dataframe tbody tr th {\n",
       "        vertical-align: top;\n",
       "    }\n",
       "\n",
       "    .dataframe thead th {\n",
       "        text-align: right;\n",
       "    }\n",
       "</style>\n",
       "<table border=\"1\" class=\"dataframe\">\n",
       "  <thead>\n",
       "    <tr style=\"text-align: right;\">\n",
       "      <th></th>\n",
       "      <th>time_slot_minutes</th>\n",
       "      <th>bus_stop_count</th>\n",
       "      <th>day_encoded</th>\n",
       "    </tr>\n",
       "  </thead>\n",
       "  <tbody>\n",
       "    <tr>\n",
       "      <th>0</th>\n",
       "      <td>650</td>\n",
       "      <td>30</td>\n",
       "      <td>0</td>\n",
       "    </tr>\n",
       "    <tr>\n",
       "      <th>1</th>\n",
       "      <td>655</td>\n",
       "      <td>78</td>\n",
       "      <td>0</td>\n",
       "    </tr>\n",
       "    <tr>\n",
       "      <th>2</th>\n",
       "      <td>660</td>\n",
       "      <td>46</td>\n",
       "      <td>0</td>\n",
       "    </tr>\n",
       "    <tr>\n",
       "      <th>3</th>\n",
       "      <td>710</td>\n",
       "      <td>91</td>\n",
       "      <td>0</td>\n",
       "    </tr>\n",
       "    <tr>\n",
       "      <th>4</th>\n",
       "      <td>715</td>\n",
       "      <td>232</td>\n",
       "      <td>0</td>\n",
       "    </tr>\n",
       "    <tr>\n",
       "      <th>...</th>\n",
       "      <td>...</td>\n",
       "      <td>...</td>\n",
       "      <td>...</td>\n",
       "    </tr>\n",
       "    <tr>\n",
       "      <th>145</th>\n",
       "      <td>985</td>\n",
       "      <td>488</td>\n",
       "      <td>4</td>\n",
       "    </tr>\n",
       "    <tr>\n",
       "      <th>146</th>\n",
       "      <td>990</td>\n",
       "      <td>288</td>\n",
       "      <td>4</td>\n",
       "    </tr>\n",
       "    <tr>\n",
       "      <th>147</th>\n",
       "      <td>1070</td>\n",
       "      <td>25</td>\n",
       "      <td>4</td>\n",
       "    </tr>\n",
       "    <tr>\n",
       "      <th>148</th>\n",
       "      <td>1075</td>\n",
       "      <td>63</td>\n",
       "      <td>4</td>\n",
       "    </tr>\n",
       "    <tr>\n",
       "      <th>149</th>\n",
       "      <td>1080</td>\n",
       "      <td>37</td>\n",
       "      <td>4</td>\n",
       "    </tr>\n",
       "  </tbody>\n",
       "</table>\n",
       "<p>150 rows × 3 columns</p>\n",
       "</div>"
      ],
      "text/plain": [
       "     time_slot_minutes  bus_stop_count  day_encoded\n",
       "0                  650              30            0\n",
       "1                  655              78            0\n",
       "2                  660              46            0\n",
       "3                  710              91            0\n",
       "4                  715             232            0\n",
       "..                 ...             ...          ...\n",
       "145                985             488            4\n",
       "146                990             288            4\n",
       "147               1070              25            4\n",
       "148               1075              63            4\n",
       "149               1080              37            4\n",
       "\n",
       "[150 rows x 3 columns]"
      ]
     },
     "execution_count": 22,
     "metadata": {},
     "output_type": "execute_result"
    }
   ],
   "source": [
    "data"
   ]
  },
  {
   "cell_type": "code",
   "execution_count": 23,
   "metadata": {},
   "outputs": [],
   "source": [
    "data.to_csv('regression_model_data.csv', index=False)"
   ]
  },
  {
   "cell_type": "markdown",
   "metadata": {},
   "source": [
    "## model"
   ]
  },
  {
   "cell_type": "code",
   "execution_count": 24,
   "metadata": {},
   "outputs": [],
   "source": [
    "from sklearn.model_selection import train_test_split"
   ]
  },
  {
   "cell_type": "code",
   "execution_count": 25,
   "metadata": {},
   "outputs": [],
   "source": [
    "X = data.drop(labels=['bus_stop_count'], axis=1)\n",
    "y = data['bus_stop_count']"
   ]
  },
  {
   "cell_type": "code",
   "execution_count": 26,
   "metadata": {},
   "outputs": [],
   "source": [
    "X_train, X_test, y_train, y_test = train_test_split(X, y, test_size=0.2, random_state=42)"
   ]
  },
  {
   "cell_type": "code",
   "execution_count": 27,
   "metadata": {},
   "outputs": [],
   "source": [
    "from sklearn.ensemble import RandomForestRegressor, GradientBoostingRegressor\n",
    "from sklearn.linear_model import LinearRegression, PoissonRegressor\n",
    "from sklearn.gaussian_process import GaussianProcessRegressor\n",
    "from sklearn.metrics import mean_absolute_error, mean_absolute_percentage_error\n",
    "from sklearn.metrics import mean_squared_error, root_mean_squared_error, r2_score\n",
    "import xgboost as xgb"
   ]
  },
  {
   "cell_type": "code",
   "execution_count": 28,
   "metadata": {},
   "outputs": [
    {
     "name": "stdout",
     "output_type": "stream",
     "text": [
      "RandomForestRegressor:\n",
      "\n",
      "mean absolute error = 99.88399999999999\n",
      "mean absolute percentage error = 0.9464231686875187\n",
      "mean squared error = 27473.24266666667\n",
      "root mean squared error = 165.7505434882995\n",
      "r2 score = 0.6098344143529904\n"
     ]
    }
   ],
   "source": [
    "model = RandomForestRegressor(n_estimators=50)\n",
    "model.fit(X_train, y_train)\n",
    "y_predict = model.predict(X_test)\n",
    "print('RandomForestRegressor:\\n')\n",
    "print(f'mean absolute error = {mean_absolute_error(y_test, y_predict)}')\n",
    "print(f'mean absolute percentage error = {mean_absolute_percentage_error(y_test, y_predict)}')\n",
    "print(f'mean squared error = {mean_squared_error(y_test, y_predict)}')\n",
    "print(f'root mean squared error = {root_mean_squared_error(y_test, y_predict)}')\n",
    "print(f'r2 score = {r2_score(y_test, y_predict)}')"
   ]
  },
  {
   "cell_type": "code",
   "execution_count": 29,
   "metadata": {},
   "outputs": [
    {
     "name": "stdout",
     "output_type": "stream",
     "text": [
      "GradientBoostingRegressor:\n",
      "\n",
      "mean absolute error = 85.36678161832272\n",
      "mean absolute percentage error = 0.7501673670526109\n",
      "mean squared error = 18643.103404498783\n",
      "root mean squared error = 136.539750272581\n",
      "r2 score = 0.7352370287574587\n"
     ]
    }
   ],
   "source": [
    "model = GradientBoostingRegressor(n_estimators=300, learning_rate=0.3, max_depth=5, subsample=0.8)\n",
    "model.fit(X_train, y_train)\n",
    "y_predict = model.predict(X_test)\n",
    "print('GradientBoostingRegressor:\\n')\n",
    "print(f'mean absolute error = {mean_absolute_error(y_test, y_predict)}')\n",
    "print(f'mean absolute percentage error = {mean_absolute_percentage_error(y_test, y_predict)}')\n",
    "print(f'mean squared error = {mean_squared_error(y_test, y_predict)}')\n",
    "print(f'root mean squared error = {root_mean_squared_error(y_test, y_predict)}')\n",
    "print(f'r2 score = {r2_score(y_test, y_predict)}')"
   ]
  },
  {
   "cell_type": "code",
   "execution_count": 30,
   "metadata": {},
   "outputs": [
    {
     "name": "stdout",
     "output_type": "stream",
     "text": [
      "LinearRegression:\n",
      "\n",
      "mean absolute error = 196.65542133881496\n",
      "mean absolute percentage error = 2.6600694160267837\n",
      "mean squared error = 69556.19374250666\n",
      "root mean squared error = 263.73508250232214\n",
      "r2 score = 0.01218675217217513\n"
     ]
    }
   ],
   "source": [
    "model = LinearRegression()\n",
    "model.fit(X_train, y_train)\n",
    "y_predict = model.predict(X_test)\n",
    "print('LinearRegression:\\n')\n",
    "print(f'mean absolute error = {mean_absolute_error(y_test, y_predict)}')\n",
    "print(f'mean absolute percentage error = {mean_absolute_percentage_error(y_test, y_predict)}')\n",
    "print(f'mean squared error = {mean_squared_error(y_test, y_predict)}')\n",
    "print(f'root mean squared error = {root_mean_squared_error(y_test, y_predict)}')\n",
    "print(f'r2 score = {r2_score(y_test, y_predict)}')"
   ]
  },
  {
   "cell_type": "code",
   "execution_count": 31,
   "metadata": {},
   "outputs": [
    {
     "name": "stdout",
     "output_type": "stream",
     "text": [
      "PoissonRegressor:\n",
      "\n",
      "mean absolute error = 209.7166666666667\n",
      "mean absolute percentage error = 3.0729476133839175\n",
      "mean squared error = 70495.465625\n",
      "root mean squared error = 265.5098220876207\n",
      "r2 score = -0.0011524655008601226\n"
     ]
    },
    {
     "name": "stderr",
     "output_type": "stream",
     "text": [
      "c:\\Users\\Owner\\miniconda3\\envs\\senior\\Lib\\site-packages\\sklearn\\linear_model\\_linear_loss.py:330: RuntimeWarning: invalid value encountered in matmul\n",
      "  grad[:n_features] = X.T @ grad_pointwise + l2_reg_strength * weights\n"
     ]
    }
   ],
   "source": [
    "model = PoissonRegressor()\n",
    "model.fit(X_train, y_train)\n",
    "y_predict = model.predict(X_test)\n",
    "print('PoissonRegressor:\\n')\n",
    "print(f'mean absolute error = {mean_absolute_error(y_test, y_predict)}')\n",
    "print(f'mean absolute percentage error = {mean_absolute_percentage_error(y_test, y_predict)}')\n",
    "print(f'mean squared error = {mean_squared_error(y_test, y_predict)}')\n",
    "print(f'root mean squared error = {root_mean_squared_error(y_test, y_predict)}')\n",
    "print(f'r2 score = {r2_score(y_test, y_predict)}')"
   ]
  },
  {
   "cell_type": "code",
   "execution_count": 32,
   "metadata": {},
   "outputs": [
    {
     "name": "stdout",
     "output_type": "stream",
     "text": [
      "GaussianProcessRegressor:\n",
      "\n",
      "mean absolute error = 112.7235267287845\n",
      "mean absolute percentage error = 0.5715326202358934\n",
      "mean squared error = 39953.94171331234\n",
      "root mean squared error = 199.88482111784361\n",
      "r2 score = 0.4325877998233264\n"
     ]
    }
   ],
   "source": [
    "model = GaussianProcessRegressor(alpha=0.3)\n",
    "model.fit(X_train, y_train)\n",
    "y_predict = model.predict(X_test)\n",
    "print('GaussianProcessRegressor:\\n')\n",
    "print(f'mean absolute error = {mean_absolute_error(y_test, y_predict)}')\n",
    "print(f'mean absolute percentage error = {mean_absolute_percentage_error(y_test, y_predict)}')\n",
    "print(f'mean squared error = {mean_squared_error(y_test, y_predict)}')\n",
    "print(f'root mean squared error = {root_mean_squared_error(y_test, y_predict)}')\n",
    "print(f'r2 score = {r2_score(y_test, y_predict)}')"
   ]
  },
  {
   "cell_type": "code",
   "execution_count": 33,
   "metadata": {},
   "outputs": [
    {
     "name": "stdout",
     "output_type": "stream",
     "text": [
      "XGBRegressor:\n",
      "\n",
      "mean absolute error = 86.8778305053711\n",
      "mean absolute percentage error = 0.6291804909706116\n",
      "mean squared error = 23897.603515625\n",
      "root mean squared error = 154.5885009765625\n",
      "r2 score = 0.6606143712997437\n"
     ]
    }
   ],
   "source": [
    "model = xgb.XGBRegressor(random_state=42)\n",
    "model.fit(X_train, y_train)\n",
    "y_predict = model.predict(X_test)\n",
    "print('XGBRegressor:\\n')\n",
    "print(f'mean absolute error = {mean_absolute_error(y_test, y_predict)}')\n",
    "print(f'mean absolute percentage error = {mean_absolute_percentage_error(y_test, y_predict)}')\n",
    "print(f'mean squared error = {mean_squared_error(y_test, y_predict)}')\n",
    "print(f'root mean squared error = {root_mean_squared_error(y_test, y_predict)}')\n",
    "print(f'r2 score = {r2_score(y_test, y_predict)}')"
   ]
  },
  {
   "cell_type": "code",
   "execution_count": 34,
   "metadata": {},
   "outputs": [
    {
     "name": "stdout",
     "output_type": "stream",
     "text": [
      "XGBRegressor:\n",
      "\n",
      "mean absolute error = 56.037574768066406\n",
      "mean absolute percentage error = 0.8962164521217346\n",
      "mean squared error = 5637.4599609375\n",
      "root mean squared error = 75.08302307128906\n",
      "r2 score = 0.9199386835098267\n"
     ]
    },
    {
     "data": {
      "text/plain": [
       "<Axes: title={'center': 'Feature importance'}, xlabel='Importance score', ylabel='Features'>"
      ]
     },
     "execution_count": 34,
     "metadata": {},
     "output_type": "execute_result"
    },
    {
     "data": {
      "image/png": "[encoded data removed]",
      "text/plain": [
       "<Figure size 640x480 with 1 Axes>"
      ]
     },
     "metadata": {},
     "output_type": "display_data"
    }
   ],
   "source": [
    "model = xgb.XGBRegressor(\n",
    "    n_estimators=50,\n",
    "    learning_rate=0.5,\n",
    "    max_depth=60,\n",
    "    subsample=0.9,\n",
    "    colsample_bytree=0.8,\n",
    "    reg_alpha=0.3,\n",
    "    reg_lambda=1.0\n",
    ")\n",
    "model.fit(X_train, y_train)\n",
    "y_predict = model.predict(X_test)\n",
    "print('XGBRegressor:\\n')\n",
    "print(f'mean absolute error = {mean_absolute_error(y_test, y_predict)}')\n",
    "print(f'mean absolute percentage error = {mean_absolute_percentage_error(y_test, y_predict)}')\n",
    "print(f'mean squared error = {mean_squared_error(y_test, y_predict)}')\n",
    "print(f'root mean squared error = {root_mean_squared_error(y_test, y_predict)}')\n",
    "print(f'r2 score = {r2_score(y_test, y_predict)}')\n",
    "from xgboost import plot_importance\n",
    "plot_importance(model)\n"
   ]
  },
  {
   "cell_type": "code",
   "execution_count": 35,
   "metadata": {},
   "outputs": [
    {
     "data": {
      "image/png": "[encoded data removed]",
      "text/plain": [
       "<Figure size 640x480 with 1 Axes>"
      ]
     },
     "metadata": {},
     "output_type": "display_data"
    }
   ],
   "source": [
    "import matplotlib.pyplot as plt\n",
    "\n",
    "plt.scatter(y_test, y_predict, alpha=0.7)\n",
    "plt.plot([y_test.min(), y_test.max()], [y_test.min(), y_test.max()], 'r--')\n",
    "plt.xlabel(\"Actual bus stop count\")\n",
    "plt.ylabel(\"Predicted bus stop count\")\n",
    "plt.title(\"Actual vs Predicted\")\n",
    "plt.grid(True)\n",
    "plt.show()\n"
   ]
  },
  {
   "cell_type": "code",
   "execution_count": 36,
   "metadata": {},
   "outputs": [
    {
     "data": {
      "image/png": "[encoded data removed]",
      "text/plain": [
       "<Figure size 640x480 with 1 Axes>"
      ]
     },
     "metadata": {},
     "output_type": "display_data"
    }
   ],
   "source": [
    "import seaborn as sns\n",
    "import pandas as pd\n",
    "\n",
    "residuals = y_test - y_predict\n",
    "sns.histplot(residuals, kde=True)\n",
    "plt.title(\"Distribution of Residuals\")\n",
    "plt.xlabel(\"Residual (Actual - Predicted)\")\n",
    "plt.axvline(0, color='red', linestyle='--')\n",
    "plt.show()\n"
   ]
  },
  {
   "cell_type": "code",
   "execution_count": 37,
   "metadata": {},
   "outputs": [
    {
     "name": "stdout",
     "output_type": "stream",
     "text": [
      "Mean residual: 9.681566874186197\n"
     ]
    }
   ],
   "source": [
    "print(\"Mean residual:\", residuals.mean())\n"
   ]
  },
  {
   "cell_type": "code",
   "execution_count": 38,
   "metadata": {},
   "outputs": [
    {
     "data": {
      "text/plain": [
       "<Axes: xlabel='time_slot_minutes'>"
      ]
     },
     "execution_count": 38,
     "metadata": {},
     "output_type": "execute_result"
    },
    {
     "data": {
      "image/png": "[encoded data removed]",
      "text/plain": [
       "<Figure size 640x480 with 1 Axes>"
      ]
     },
     "metadata": {},
     "output_type": "display_data"
    }
   ],
   "source": [
    "df_results = X_test.copy()\n",
    "df_results[\"actual\"] = y_test\n",
    "df_results[\"predicted\"] = y_predict\n",
    "df_results[\"error\"] = df_results[\"actual\"] - df_results[\"predicted\"]\n",
    "\n",
    "# Example: error trend by time slot\n",
    "df_results.groupby(\"time_slot_minutes\")[\"error\"].mean().plot(kind='bar')\n"
   ]
  },
  {
   "cell_type": "code",
   "execution_count": 39,
   "metadata": {},
   "outputs": [],
   "source": [
    "def correct_peak_prediction_single(prediction, time_slot_minutes):\n",
    "    if time_slot_minutes in range(615, 625):      # ~10:15 AM → underpredicting\n",
    "        return prediction + 120\n",
    "    elif time_slot_minutes in range(660, 670):    # ~11:00 AM → underpredicting\n",
    "        return prediction + 150\n",
    "    elif time_slot_minutes in range(720, 730):    # ~12:00 PM → overpredicting\n",
    "        return prediction - 75\n",
    "    elif time_slot_minutes in range(810, 820):    # ~3:00 PM → overpredicting\n",
    "        return prediction - 100\n",
    "    elif time_slot_minutes in range(890, 900):    # ~4:00 PM → underpredicting\n",
    "        return prediction - 200\n",
    "    else:\n",
    "        return prediction\n"
   ]
  },
  {
   "cell_type": "code",
   "execution_count": 40,
   "metadata": {},
   "outputs": [],
   "source": [
    "time_slot_minutes =[890]\n",
    "day_encoded = [4]\n",
    "new_data = pd.DataFrame({'time_slot_minutes': time_slot_minutes, 'day_encoded':day_encoded})"
   ]
  },
  {
   "cell_type": "code",
   "execution_count": 41,
   "metadata": {},
   "outputs": [],
   "source": [
    "new_pred = model.predict(new_data)"
   ]
  },
  {
   "cell_type": "code",
   "execution_count": 42,
   "metadata": {},
   "outputs": [
    {
     "data": {
      "text/plain": [
       "array([148.63684], dtype=float32)"
      ]
     },
     "execution_count": 42,
     "metadata": {},
     "output_type": "execute_result"
    }
   ],
   "source": [
    "new_pred"
   ]
  },
  {
   "cell_type": "code",
   "execution_count": 43,
   "metadata": {},
   "outputs": [],
   "source": [
    "new_pred = correct_peak_prediction_single(new_pred, time_slot_minutes[0])"
   ]
  },
  {
   "cell_type": "code",
   "execution_count": 44,
   "metadata": {},
   "outputs": [
    {
     "data": {
      "text/plain": [
       "array([-51.36316], dtype=float32)"
      ]
     },
     "execution_count": 44,
     "metadata": {},
     "output_type": "execute_result"
    }
   ],
   "source": [
    "new_pred"
   ]
  },
  {
   "cell_type": "code",
   "execution_count": null,
   "metadata": {},
   "outputs": [],
   "source": []
  }
 ],
 "metadata": {
  "kernelspec": {
   "display_name": "senior",
   "language": "python",
   "name": "python3"
  },
  "language_info": {
   "codemirror_mode": {
    "name": "ipython",
    "version": 3
   },
   "file_extension": ".py",
   "mimetype": "text/x-python",
   "name": "python",
   "nbconvert_exporter": "python",
   "pygments_lexer": "ipython3",
   "version": "3.12.9"
  }
 },
 "nbformat": 4,
 "nbformat_minor": 2
}
